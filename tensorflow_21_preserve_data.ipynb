{
 "cells": [
  {
   "cell_type": "code",
   "execution_count": 3,
   "metadata": {},
   "outputs": [
    {
     "name": "stdout",
     "output_type": "stream",
     "text": [
      "2.2.0\n",
      "sys.version_info(major=3, minor=8, micro=2, releaselevel='final', serial=0)\n",
      "matplotlib 3.2.1\n",
      "numpy 1.18.5\n",
      "pandas 1.0.4\n",
      "sklearn 0.23.1\n",
      "tensorflow 2.2.0\n",
      "tensorflow.keras 2.3.0-tf\n"
     ]
    }
   ],
   "source": [
    "import matplotlib as mpl\n",
    "import matplotlib.pyplot as plt\n",
    "%matplotlib inline\n",
    "import numpy as np\n",
    "import sklearn\n",
    "import pandas as pd\n",
    "import os\n",
    "import sys\n",
    "import time\n",
    "import tensorflow as tf\n",
    "\n",
    "from tensorflow import keras\n",
    "\n",
    "print(tf.__version__)\n",
    "print(sys.version_info)\n",
    "for module in mpl, np, pd, sklearn, tf, keras:\n",
    "    print(module.__name__, module.__version__)"
   ]
  },
  {
   "cell_type": "code",
   "execution_count": 4,
   "metadata": {},
   "outputs": [
    {
     "name": "stdout",
     "output_type": "stream",
     "text": [
      "<TensorSliceDataset shapes: (), types: tf.int64>\n",
      "<class 'tensorflow.python.data.ops.dataset_ops.TensorSliceDataset'>\n"
     ]
    }
   ],
   "source": [
    "# 使用tf.data.Dataset.from_tensor_slices，在内存中构建dataset\n",
    "dataset = tf.data.Dataset.from_tensor_slices(np.arange(10))\n",
    "\n",
    "\n",
    "print(dataset)\n",
    "print(type(dataset))  # 类型为TensorSliceDataset"
   ]
  },
  {
   "cell_type": "code",
   "execution_count": 5,
   "metadata": {},
   "outputs": [
    {
     "name": "stdout",
     "output_type": "stream",
     "text": [
      "tf.Tensor(0, shape=(), dtype=int64)\n",
      "<class 'tensorflow.python.framework.ops.EagerTensor'>\n",
      "tf.Tensor(1, shape=(), dtype=int64)\n",
      "<class 'tensorflow.python.framework.ops.EagerTensor'>\n",
      "tf.Tensor(2, shape=(), dtype=int64)\n",
      "<class 'tensorflow.python.framework.ops.EagerTensor'>\n",
      "tf.Tensor(3, shape=(), dtype=int64)\n",
      "<class 'tensorflow.python.framework.ops.EagerTensor'>\n",
      "tf.Tensor(4, shape=(), dtype=int64)\n",
      "<class 'tensorflow.python.framework.ops.EagerTensor'>\n",
      "tf.Tensor(5, shape=(), dtype=int64)\n",
      "<class 'tensorflow.python.framework.ops.EagerTensor'>\n",
      "tf.Tensor(6, shape=(), dtype=int64)\n",
      "<class 'tensorflow.python.framework.ops.EagerTensor'>\n",
      "tf.Tensor(7, shape=(), dtype=int64)\n",
      "<class 'tensorflow.python.framework.ops.EagerTensor'>\n",
      "tf.Tensor(8, shape=(), dtype=int64)\n",
      "<class 'tensorflow.python.framework.ops.EagerTensor'>\n",
      "tf.Tensor(9, shape=(), dtype=int64)\n",
      "<class 'tensorflow.python.framework.ops.EagerTensor'>\n"
     ]
    }
   ],
   "source": [
    "# 遍历dataset，每一个对象均为tensor\n",
    "for i in dataset:\n",
    "    print(i)\n",
    "    print(type(i))  # 类型为EagerTensor"
   ]
  },
  {
   "cell_type": "code",
   "execution_count": 6,
   "metadata": {},
   "outputs": [
    {
     "name": "stdout",
     "output_type": "stream",
     "text": [
      "tf.Tensor([0 1 2 3 4], shape=(5,), dtype=int64)\n",
      "tf.Tensor([5 6 7 8 9], shape=(5,), dtype=int64)\n",
      "tf.Tensor([0 1 2 3 4], shape=(5,), dtype=int64)\n",
      "tf.Tensor([5 6 7 8 9], shape=(5,), dtype=int64)\n"
     ]
    }
   ],
   "source": [
    "# .repeat()表示该数据集可以被重复获取的次数\n",
    "# .batch()表示每次获取数据的数据量\n",
    "# 对数据集进行分割\n",
    "dataset = dataset.repeat(2).batch(5)\n",
    "\n",
    "for item in dataset:\n",
    "    print(item)\n",
    "#     print(type(item))  # 类型为EagerTensor"
   ]
  },
  {
   "cell_type": "code",
   "execution_count": 7,
   "metadata": {},
   "outputs": [
    {
     "name": "stdout",
     "output_type": "stream",
     "text": [
      "tf.Tensor(0, shape=(), dtype=int64)\n",
      "tf.Tensor(1, shape=(), dtype=int64)\n",
      "tf.Tensor(5, shape=(), dtype=int64)\n",
      "tf.Tensor(6, shape=(), dtype=int64)\n",
      "tf.Tensor(0, shape=(), dtype=int64)\n",
      "tf.Tensor(1, shape=(), dtype=int64)\n",
      "tf.Tensor(2, shape=(), dtype=int64)\n",
      "tf.Tensor(3, shape=(), dtype=int64)\n",
      "tf.Tensor(7, shape=(), dtype=int64)\n",
      "tf.Tensor(8, shape=(), dtype=int64)\n",
      "tf.Tensor(2, shape=(), dtype=int64)\n",
      "tf.Tensor(3, shape=(), dtype=int64)\n",
      "tf.Tensor(4, shape=(), dtype=int64)\n",
      "tf.Tensor(9, shape=(), dtype=int64)\n",
      "tf.Tensor(4, shape=(), dtype=int64)\n",
      "tf.Tensor(5, shape=(), dtype=int64)\n",
      "tf.Tensor(6, shape=(), dtype=int64)\n",
      "tf.Tensor(7, shape=(), dtype=int64)\n",
      "tf.Tensor(8, shape=(), dtype=int64)\n",
      "tf.Tensor(9, shape=(), dtype=int64)\n",
      "20\n"
     ]
    }
   ],
   "source": [
    "# interleave() 其实就是拆解数据，获取数据的一个方法\n",
    "# 从Dataset中取出cycle_length个element，并应用apply map_func, 得到cycle_length个新的Dataset对象\n",
    "# 从新生成的Dataset中取数据，每个对象一次取block_length个数据直到取尽后，再从原Dataset中再取一个element\n",
    "# 然后apply map_func，以此类推\n",
    "\n",
    "dataset2 = dataset.interleave(\n",
    "    # 使用lambda提供map_func\n",
    "    lambda v: tf.data.Dataset.from_tensor_slices(v),\n",
    "    # 应用map_func的数据数量\n",
    "    cycle_length=3,\n",
    "    # 从新生成的数据集获取数据数量\n",
    "    block_length=2\n",
    ")\n",
    "\n",
    "# print(type(dataset2))  # 数据类型为InterleaveDataset\n",
    "\n",
    "i = 0\n",
    "for item in dataset2:\n",
    "    i += 1\n",
    "    print(item)\n",
    "print(i)"
   ]
  },
  {
   "cell_type": "code",
   "execution_count": 15,
   "metadata": {},
   "outputs": [
    {
     "name": "stdout",
     "output_type": "stream",
     "text": [
      "<TensorSliceDataset shapes: ((2,), ()), types: (tf.int64, tf.string)>\n",
      "<class 'tensorflow.python.data.ops.dataset_ops.TensorSliceDataset'>\n",
      "[1 2] b'cat'\n",
      "[3 4] b'dog'\n",
      "[5 6] b'fox'\n",
      "(<tf.Tensor: shape=(2,), dtype=int64, numpy=array([1, 2])>, <tf.Tensor: shape=(), dtype=string, numpy=b'cat'>)\n",
      "(<tf.Tensor: shape=(2,), dtype=int64, numpy=array([3, 4])>, <tf.Tensor: shape=(), dtype=string, numpy=b'dog'>)\n",
      "(<tf.Tensor: shape=(2,), dtype=int64, numpy=array([5, 6])>, <tf.Tensor: shape=(), dtype=string, numpy=b'fox'>)\n"
     ]
    }
   ],
   "source": [
    "# 输入的参数是元祖的情况下，以tensor类型放在同一个元组对象中\n",
    "\n",
    "x = np.array([[1, 2], [3, 4], [5, 6]])\n",
    "y = np.array(['cat', 'dog', 'fox'])\n",
    "\n",
    "dataset3 = tf.data.Dataset.from_tensor_slices((x, y))\n",
    "print(dataset3)\n",
    "print(type(dataset3))  # 类型为TensorSliceDataset\n",
    "\n",
    "for item_x, item_y in dataset3:\n",
    "    print(item_x.numpy(), item_y.numpy())\n",
    "\n",
    "for item in dataset3:\n",
    "    print(item)"
   ]
  },
  {
   "cell_type": "code",
   "execution_count": 26,
   "metadata": {},
   "outputs": [
    {
     "name": "stdout",
     "output_type": "stream",
     "text": [
      "<TensorSliceDataset shapes: {feature: (2,), label: ()}, types: {feature: tf.int64, label: tf.string}>\n",
      "<class 'tensorflow.python.data.ops.dataset_ops.TensorSliceDataset'>\n",
      "[1 2] b'cat'\n",
      "[3 4] b'dog'\n",
      "[5 6] b'fox'\n",
      "{'feature': <tf.Tensor: shape=(2,), dtype=int64, numpy=array([1, 2])>, 'label': <tf.Tensor: shape=(), dtype=string, numpy=b'cat'>}\n",
      "<class 'tensorflow.python.framework.ops.EagerTensor'>\n",
      "<class 'numpy.ndarray'>\n",
      "{'feature': <tf.Tensor: shape=(2,), dtype=int64, numpy=array([3, 4])>, 'label': <tf.Tensor: shape=(), dtype=string, numpy=b'dog'>}\n",
      "<class 'tensorflow.python.framework.ops.EagerTensor'>\n",
      "<class 'numpy.ndarray'>\n",
      "{'feature': <tf.Tensor: shape=(2,), dtype=int64, numpy=array([5, 6])>, 'label': <tf.Tensor: shape=(), dtype=string, numpy=b'fox'>}\n",
      "<class 'tensorflow.python.framework.ops.EagerTensor'>\n",
      "<class 'numpy.ndarray'>\n"
     ]
    },
    {
     "ename": "TypeError",
     "evalue": "'TensorSliceDataset' object is not subscriptable",
     "output_type": "error",
     "traceback": [
      "\u001b[0;31m---------------------------------------------------------------------------\u001b[0m",
      "\u001b[0;31mTypeError\u001b[0m                                 Traceback (most recent call last)",
      "\u001b[0;32m<ipython-input-26-a2b5fc56bd47>\u001b[0m in \u001b[0;36m<module>\u001b[0;34m\u001b[0m\n\u001b[1;32m     14\u001b[0m     \u001b[0mprint\u001b[0m\u001b[0;34m(\u001b[0m\u001b[0mtype\u001b[0m\u001b[0;34m(\u001b[0m\u001b[0mitem\u001b[0m\u001b[0;34m[\u001b[0m\u001b[0;34m'feature'\u001b[0m\u001b[0;34m]\u001b[0m\u001b[0;34m.\u001b[0m\u001b[0mnumpy\u001b[0m\u001b[0;34m(\u001b[0m\u001b[0;34m)\u001b[0m\u001b[0;34m)\u001b[0m\u001b[0;34m)\u001b[0m\u001b[0;34m\u001b[0m\u001b[0;34m\u001b[0m\u001b[0m\n\u001b[1;32m     15\u001b[0m \u001b[0;34m\u001b[0m\u001b[0m\n\u001b[0;32m---> 16\u001b[0;31m \u001b[0;32mfor\u001b[0m \u001b[0mitem\u001b[0m \u001b[0;32min\u001b[0m \u001b[0mdataset4\u001b[0m\u001b[0;34m[\u001b[0m\u001b[0;34m'feature'\u001b[0m\u001b[0;34m]\u001b[0m\u001b[0;34m:\u001b[0m\u001b[0;34m\u001b[0m\u001b[0;34m\u001b[0m\u001b[0m\n\u001b[0m\u001b[1;32m     17\u001b[0m     \u001b[0mprint\u001b[0m\u001b[0;34m(\u001b[0m\u001b[0mitem\u001b[0m\u001b[0;34m.\u001b[0m\u001b[0mnumpy\u001b[0m\u001b[0;34m(\u001b[0m\u001b[0;34m)\u001b[0m\u001b[0;34m)\u001b[0m\u001b[0;34m\u001b[0m\u001b[0;34m\u001b[0m\u001b[0m\n",
      "\u001b[0;31mTypeError\u001b[0m: 'TensorSliceDataset' object is not subscriptable"
     ]
    }
   ],
   "source": [
    "# 输入参数是字典的情况下\n",
    "\n",
    "dataset4 = tf.data.Dataset.from_tensor_slices({'feature': x, 'label': y})\n",
    "\n",
    "print(dataset4)\n",
    "print(type(dataset4))\n",
    "\n",
    "for item in dataset4:\n",
    "    print(item['feature'].numpy(), item['label'].numpy())\n",
    "    \n",
    "for item in dataset4:\n",
    "    print(item)\n",
    "    print(type(item['feature']))\n",
    "    print(type(item['feature'].numpy()))"
   ]
  },
  {
   "cell_type": "code",
   "execution_count": null,
   "metadata": {},
   "outputs": [],
   "source": []
  }
 ],
 "metadata": {
  "kernelspec": {
   "display_name": "Python 3",
   "language": "python",
   "name": "python3"
  },
  "language_info": {
   "codemirror_mode": {
    "name": "ipython",
    "version": 3
   },
   "file_extension": ".py",
   "mimetype": "text/x-python",
   "name": "python",
   "nbconvert_exporter": "python",
   "pygments_lexer": "ipython3",
   "version": "3.8.2"
  }
 },
 "nbformat": 4,
 "nbformat_minor": 4
}
