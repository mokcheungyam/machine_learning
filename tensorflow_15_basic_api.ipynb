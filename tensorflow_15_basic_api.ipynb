{
 "cells": [
  {
   "cell_type": "code",
   "execution_count": 72,
   "metadata": {},
   "outputs": [],
   "source": [
    "import matplotlib as mpl\n",
    "import matplotlib.pyplot as plt\n",
    "\n",
    "import numpy as np\n",
    "import pandas as pd\n",
    "import sklearn\n",
    "\n",
    "import os\n",
    "import sys\n",
    "import time\n",
    "\n",
    "import tensorflow as tf\n",
    "\n",
    "from tensorflow import keras\n"
   ]
  },
  {
   "cell_type": "code",
   "execution_count": 73,
   "metadata": {},
   "outputs": [],
   "source": [
    "# 数字类型"
   ]
  },
  {
   "cell_type": "code",
   "execution_count": 74,
   "metadata": {},
   "outputs": [
    {
     "name": "stdout",
     "output_type": "stream",
     "text": [
      "tf.Tensor(\n",
      "[[1. 2. 3.]\n",
      " [4. 5. 6.]], shape=(2, 3), dtype=float32)\n"
     ]
    }
   ],
   "source": [
    "t = tf.constant([[1., 2., 3.], [4., 5., 6.]])\n",
    "\n",
    "print(t)"
   ]
  },
  {
   "cell_type": "code",
   "execution_count": 75,
   "metadata": {},
   "outputs": [
    {
     "name": "stdout",
     "output_type": "stream",
     "text": [
      "tf.Tensor(\n",
      "[[2. 3.]\n",
      " [5. 6.]], shape=(2, 2), dtype=float32)\n"
     ]
    }
   ],
   "source": [
    "# 切片\n",
    "print(t[:, 1:])"
   ]
  },
  {
   "cell_type": "code",
   "execution_count": 76,
   "metadata": {},
   "outputs": [
    {
     "name": "stdout",
     "output_type": "stream",
     "text": [
      "tf.Tensor([1. 4.], shape=(2,), dtype=float32)\n"
     ]
    }
   ],
   "source": [
    "# 索引\n",
    "print(t[..., 0])"
   ]
  },
  {
   "cell_type": "code",
   "execution_count": 77,
   "metadata": {},
   "outputs": [
    {
     "name": "stdout",
     "output_type": "stream",
     "text": [
      "tf.Tensor([1. 2. 3.], shape=(3,), dtype=float32)\n"
     ]
    }
   ],
   "source": [
    "print(t[0, ...])"
   ]
  },
  {
   "cell_type": "code",
   "execution_count": 78,
   "metadata": {},
   "outputs": [
    {
     "name": "stdout",
     "output_type": "stream",
     "text": [
      "tf.Tensor(\n",
      "[[67. 68. 69.]\n",
      " [70. 71. 72.]], shape=(2, 3), dtype=float32)\n"
     ]
    }
   ],
   "source": [
    "# 运算和普通操作\n",
    "# 与整数相加\n",
    "print(t + 66)"
   ]
  },
  {
   "cell_type": "code",
   "execution_count": 79,
   "metadata": {},
   "outputs": [
    {
     "name": "stdout",
     "output_type": "stream",
     "text": [
      "tf.Tensor(\n",
      "[[ 1.  4.  9.]\n",
      " [16. 25. 36.]], shape=(2, 3), dtype=float32)\n"
     ]
    }
   ],
   "source": [
    "# 平方\n",
    "print(tf.square(t))"
   ]
  },
  {
   "cell_type": "code",
   "execution_count": 80,
   "metadata": {},
   "outputs": [
    {
     "name": "stdout",
     "output_type": "stream",
     "text": [
      "tf.Tensor(\n",
      "[[14. 32.]\n",
      " [32. 77.]], shape=(2, 2), dtype=float32)\n"
     ]
    }
   ],
   "source": [
    "# 乘以原矩阵的转置矩阵\n",
    "print(t @ tf.transpose(t))"
   ]
  },
  {
   "cell_type": "code",
   "execution_count": 81,
   "metadata": {},
   "outputs": [
    {
     "name": "stdout",
     "output_type": "stream",
     "text": [
      "[[1. 2. 3.]\n",
      " [4. 5. 6.]]\n"
     ]
    }
   ],
   "source": [
    "# 转换为numpy中的数组\n",
    "print(t.numpy())"
   ]
  },
  {
   "cell_type": "code",
   "execution_count": 82,
   "metadata": {},
   "outputs": [
    {
     "name": "stdout",
     "output_type": "stream",
     "text": [
      "<class 'numpy.ndarray'>\n"
     ]
    }
   ],
   "source": [
    "print(type(t.numpy()))"
   ]
  },
  {
   "cell_type": "code",
   "execution_count": 83,
   "metadata": {},
   "outputs": [
    {
     "data": {
      "text/plain": [
       "tensorflow.python.framework.ops.EagerTensor"
      ]
     },
     "execution_count": 83,
     "metadata": {},
     "output_type": "execute_result"
    }
   ],
   "source": [
    "type(t)"
   ]
  },
  {
   "cell_type": "code",
   "execution_count": 84,
   "metadata": {},
   "outputs": [
    {
     "data": {
      "text/plain": [
       "numpy.ndarray"
      ]
     },
     "execution_count": 84,
     "metadata": {},
     "output_type": "execute_result"
    }
   ],
   "source": [
    "type(t.numpy())"
   ]
  },
  {
   "cell_type": "code",
   "execution_count": 85,
   "metadata": {},
   "outputs": [
    {
     "name": "stdout",
     "output_type": "stream",
     "text": [
      "[[ 1.  4.  9.]\n",
      " [16. 25. 36.]]\n"
     ]
    }
   ],
   "source": [
    "# 使用ndarry中的方法，平方\n",
    "print(np.square(t))"
   ]
  },
  {
   "cell_type": "code",
   "execution_count": 86,
   "metadata": {},
   "outputs": [],
   "source": [
    "np_t = t.numpy()"
   ]
  },
  {
   "cell_type": "code",
   "execution_count": 87,
   "metadata": {},
   "outputs": [
    {
     "data": {
      "text/plain": [
       "array([[1., 2., 3.],\n",
       "       [4., 5., 6.]], dtype=float32)"
      ]
     },
     "execution_count": 87,
     "metadata": {},
     "output_type": "execute_result"
    }
   ],
   "source": [
    "np_t"
   ]
  },
  {
   "cell_type": "code",
   "execution_count": 88,
   "metadata": {},
   "outputs": [
    {
     "name": "stdout",
     "output_type": "stream",
     "text": [
      "[[1. 2. 3.]\n",
      " [4. 5. 6.]]\n"
     ]
    }
   ],
   "source": [
    "print(np_t)"
   ]
  },
  {
   "cell_type": "code",
   "execution_count": 89,
   "metadata": {},
   "outputs": [
    {
     "name": "stdout",
     "output_type": "stream",
     "text": [
      "<class 'numpy.ndarray'>\n"
     ]
    }
   ],
   "source": [
    "print(type(np_t))"
   ]
  },
  {
   "cell_type": "code",
   "execution_count": 90,
   "metadata": {},
   "outputs": [
    {
     "name": "stdout",
     "output_type": "stream",
     "text": [
      "tf.Tensor(\n",
      "[[1. 2. 3.]\n",
      " [4. 5. 6.]], shape=(2, 3), dtype=float32)\n"
     ]
    }
   ],
   "source": [
    "# 将numpy中的数组转换为tensor\n",
    "tf_t = tf.constant(np_t)\n",
    "print(tf_t)"
   ]
  },
  {
   "cell_type": "code",
   "execution_count": 91,
   "metadata": {},
   "outputs": [
    {
     "name": "stdout",
     "output_type": "stream",
     "text": [
      "2.666\n",
      "()\n"
     ]
    }
   ],
   "source": [
    "# 标准化\n",
    "a = tf.constant(2.666)\n",
    "\n",
    "print(a.numpy())\n",
    "print(a.shape)"
   ]
  },
  {
   "cell_type": "code",
   "execution_count": 92,
   "metadata": {},
   "outputs": [
    {
     "name": "stdout",
     "output_type": "stream",
     "text": [
      "tf.Tensor(b'\\xe8\\x8e\\xab', shape=(), dtype=string)\n",
      "tf.Tensor(3, shape=(), dtype=int32)\n",
      "tf.Tensor(1, shape=(), dtype=int32)\n",
      "tf.Tensor([33707], shape=(1,), dtype=int32)\n",
      "tf.Tensor([65533 65533 65533], shape=(3,), dtype=int32)\n"
     ]
    }
   ],
   "source": [
    "# 字符串类型\n",
    "b = tf.constant('莫')\n",
    "print(b)\n",
    "print(tf.strings.length(b))  # 输出字符串长度\n",
    "print(tf.strings.length(b, unit='UTF8_CHAR'))  # 指定计算字符长度时，字符的编码格式\n",
    "print(tf.strings.unicode_decode(b, 'UTF8'))  # 指定字符串编解码格式\n",
    "print(tf.strings.unicode_decode(b, 'ascii'))"
   ]
  },
  {
   "cell_type": "code",
   "execution_count": 93,
   "metadata": {},
   "outputs": [
    {
     "name": "stdout",
     "output_type": "stream",
     "text": [
      "tf.Tensor([3 6 2], shape=(3,), dtype=int32)\n",
      "<tf.RaggedTensor [[109, 111, 107], [99, 104, 101, 117, 110, 103], [20320, 22909]]>\n"
     ]
    }
   ],
   "source": [
    "# 字符串数组\n",
    "t = tf.constant(['mok', 'cheung', '你好'])\n",
    "\n",
    "# 求出数组中每一个字符串的长度\n",
    "t2 = tf.strings.length(t, unit='UTF8_CHAR')\n",
    "print(t2)\n",
    "\n",
    "t3 = tf.strings.unicode_decode(t, 'UTF8')\n",
    "print(t3)"
   ]
  },
  {
   "cell_type": "code",
   "execution_count": 94,
   "metadata": {},
   "outputs": [
    {
     "name": "stdout",
     "output_type": "stream",
     "text": [
      "<tf.RaggedTensor [[11, 22], [33, 44, 55], [], [666]]>\n",
      "<class 'tensorflow.python.ops.ragged.ragged_tensor.RaggedTensor'>\n",
      "<tf.RaggedTensor [[11, 22], [33, 44, 55], [], [666]]>\n"
     ]
    }
   ],
   "source": [
    "# ragged tensor 形状分布不固定的Tensor\n",
    "r = tf.ragged.constant([[11, 22], [33, 44, 55], [], [666]])\n",
    "print(r)\n",
    "print(type(r))\n",
    "print(r[:4])"
   ]
  },
  {
   "cell_type": "code",
   "execution_count": 101,
   "metadata": {},
   "outputs": [
    {
     "name": "stdout",
     "output_type": "stream",
     "text": [
      "<tf.RaggedTensor [[888, 999], [], [1024], []]>\n"
     ]
    }
   ],
   "source": [
    "# ragged tensor 的运算和操作\n",
    "r2 = tf.ragged.constant([[888, 999], [], [1024], []])\n",
    "print(r2)"
   ]
  },
  {
   "cell_type": "code",
   "execution_count": 105,
   "metadata": {},
   "outputs": [
    {
     "name": "stdout",
     "output_type": "stream",
     "text": [
      "<tf.RaggedTensor [[11, 22], [33, 44, 55], [], [666], [888, 999], [], [1024], []]>\n",
      "(8, None)\n",
      "<tf.RaggedTensor [[11, 22, 888, 999], [33, 44, 55], [1024], [666]]>\n",
      "(4, None)\n"
     ]
    }
   ],
   "source": [
    "# 拼接ragged tensor\n",
    "r3 = tf.concat([r, r2], axis=0)  # 沿0轴方向拼接\n",
    "print(r3)\n",
    "print(r3.shape)\n",
    "\n",
    "r4 = tf.concat([r, r2], axis=1)  # 沿1轴方向拼接\n",
    "print(r4)\n",
    "print(r4.shape)"
   ]
  },
  {
   "cell_type": "code",
   "execution_count": 109,
   "metadata": {},
   "outputs": [
    {
     "name": "stdout",
     "output_type": "stream",
     "text": [
      "<tf.RaggedTensor [[11, 22], [33, 44, 55], [], [666]]>\n",
      "<class 'tensorflow.python.ops.ragged.ragged_tensor.RaggedTensor'>\n",
      "tf.Tensor(\n",
      "[[ 11  22   0]\n",
      " [ 33  44  55]\n",
      " [  0   0   0]\n",
      " [666   0   0]], shape=(4, 3), dtype=int32)\n",
      "<class 'tensorflow.python.framework.ops.EagerTensor'>\n"
     ]
    }
   ],
   "source": [
    "# 将不规则tensor转换为规则tensor\n",
    "print(r)\n",
    "print(type(r))\n",
    "r_2_t = r.to_tensor()  # 空白处补0，数值优先对齐，0补在后面\n",
    "print(r_2_t)\n",
    "print(type(r_2_t))"
   ]
  },
  {
   "cell_type": "code",
   "execution_count": 115,
   "metadata": {},
   "outputs": [
    {
     "name": "stdout",
     "output_type": "stream",
     "text": [
      "<class 'tensorflow.python.framework.sparse_tensor.SparseTensor'>\n",
      "SparseTensor(indices=tf.Tensor(\n",
      "[[0 1]\n",
      " [1 0]\n",
      " [2 2]], shape=(3, 2), dtype=int64), values=tf.Tensor([666. 888. 999.], shape=(3,), dtype=float32), dense_shape=tf.Tensor([4 4], shape=(2,), dtype=int64))\n",
      "tf.Tensor(\n",
      "[[  0. 666.   0.   0.]\n",
      " [888.   0.   0.   0.]\n",
      " [  0.   0. 999.   0.]\n",
      " [  0.   0.   0.   0.]], shape=(4, 4), dtype=float32)\n",
      "<class 'tensorflow.python.framework.ops.EagerTensor'>\n"
     ]
    }
   ],
   "source": [
    "# sparse tensor 稀疏分布的tensor，可以自定义数值的位置和填补位置\n",
    "s = tf.SparseTensor(indices=[[0, 1], [1, 0], [2, 2]],\n",
    "                   values=[666., 888., 999.],\n",
    "                   dense_shape=[4, 4])\n",
    "\n",
    "print(type(s))\n",
    "print(s)  # 返回的sparsetensor对象是将每个数值的位置记录下来，并不会主动去填补0\n",
    "s_2_t = tf.sparse.to_dense(s)  # 将sparsetensor转换为tensor，自动添加零\n",
    "print(s_2_t)\n",
    "print(type(s_2_t))"
   ]
  },
  {
   "cell_type": "code",
   "execution_count": 124,
   "metadata": {},
   "outputs": [
    {
     "name": "stdout",
     "output_type": "stream",
     "text": [
      "SparseTensor(indices=tf.Tensor(\n",
      "[[0 1]\n",
      " [1 0]\n",
      " [2 2]], shape=(3, 2), dtype=int64), values=tf.Tensor([1332. 1776. 1998.], shape=(3,), dtype=float32), dense_shape=tf.Tensor([4 4], shape=(2,), dtype=int64))\n",
      "tf.Tensor(\n",
      "[[   0. 1332.    0.    0.]\n",
      " [1776.    0.    0.    0.]\n",
      " [   0.    0. 1998.    0.]\n",
      " [   0.    0.    0.    0.]], shape=(4, 4), dtype=float32)\n",
      "unsupported operand type(s) for +: 'SparseTensor' and 'int'\n",
      "tf.Tensor(\n",
      "[[19980. 26640.]\n",
      " [ 8880. 17760.]\n",
      " [49950. 59940.]\n",
      " [    0.     0.]], shape=(4, 2), dtype=float32)\n"
     ]
    }
   ],
   "source": [
    "# 稀疏tensor上的运算和基本操作\n",
    "# 与数值相乘\n",
    "s2 = s * 2.0\n",
    "print(s2)\n",
    "s2_2_t = tf.sparse.to_dense(s2)\n",
    "print(s2_2_t)\n",
    "\n",
    "# unsupported operand type(s) \n",
    "# for +: 'SparseTensor' and 'int'\n",
    "# 不支持加法运算\n",
    "try:\n",
    "    s3 = s2 + 666\n",
    "except TypeError as te:\n",
    "    print(te)\n",
    "\n",
    "s4 = tf.constant([[10., 20.],\n",
    "                  [30., 40.],\n",
    "                  [50., 60.],\n",
    "                  [70., 80.]])\n",
    "\n",
    "# 稀疏tensor与密集tensor相乘\n",
    "print(tf.sparse.sparse_dense_matmul(s, s4))"
   ]
  },
  {
   "cell_type": "code",
   "execution_count": 135,
   "metadata": {},
   "outputs": [
    {
     "name": "stdout",
     "output_type": "stream",
     "text": [
      "SparseTensor(indices=tf.Tensor(\n",
      "[[0 1]\n",
      " [2 3]\n",
      " [2 1]], shape=(3, 2), dtype=int64), values=tf.Tensor([1.  2.6 3.5], shape=(3,), dtype=float32), dense_shape=tf.Tensor([3 4], shape=(2,), dtype=int64))\n",
      "SparseTensor(indices=tf.Tensor(\n",
      "[[0 1]\n",
      " [2 1]\n",
      " [2 3]], shape=(3, 2), dtype=int64), values=tf.Tensor([1.  3.5 2.6], shape=(3,), dtype=float32), dense_shape=tf.Tensor([3 4], shape=(2,), dtype=int64))\n",
      "tf.Tensor(\n",
      "[[0.  1.  0.  0. ]\n",
      " [0.  0.  0.  0. ]\n",
      " [0.  3.5 0.  2.6]], shape=(3, 4), dtype=float32)\n"
     ]
    }
   ],
   "source": [
    "s5 = tf.SparseTensor(indices=[[0, 1], [2, 3], [2, 1]],\n",
    "                    values=[1., 2.6, 3.5],\n",
    "                    dense_shape=[3, 4])\n",
    "print(s5)\n",
    "\n",
    "# 直接将s5转换会因为下标排序问题而报错，因此需要重新对下标进行排序再转换\n",
    "# print(tf.sparse.to_dense(s5))\n",
    "\n",
    "# 排序\n",
    "s6 = tf.sparse.reorder(s5)\n",
    "print(s6)\n",
    "print(tf.sparse.to_dense(s6))"
   ]
  },
  {
   "cell_type": "code",
   "execution_count": 155,
   "metadata": {},
   "outputs": [
    {
     "name": "stdout",
     "output_type": "stream",
     "text": [
      "<tf.Variable 'Variable:0' shape=(2, 3) dtype=float32, numpy=\n",
      "array([[1., 2., 3.],\n",
      "       [4., 5., 6.]], dtype=float32)>\n",
      "<class 'tensorflow.python.ops.resource_variable_ops.ResourceVariable'>\n",
      "tf.Tensor(\n",
      "[[1. 2. 3.]\n",
      " [4. 5. 6.]], shape=(2, 3), dtype=float32)\n",
      "tf.Tensor([4. 5. 6.], shape=(3,), dtype=float32)\n",
      "[[1. 2. 3.]\n",
      " [4. 5. 6.]]\n",
      "<tf.Variable 'Variable:0' shape=(2, 3) dtype=float32, numpy=\n",
      "array([[1., 2., 3.],\n",
      "       [4., 5., 6.]], dtype=float32)>\n"
     ]
    }
   ],
   "source": [
    "# 变量\n",
    "v = tf.Variable([[1., 2., 3.], [4., 5., 6.]])\n",
    "print(v)\n",
    "print(type(v))\n",
    "print(v.value())  # 变量中的值\n",
    "print(v.value()[1])  # 变量中的值，使用下标获得不同维的值，返回的类型是tensor\n",
    "\n",
    "print(v.numpy())  # 转换为numpy的数组\n",
    "print(v)"
   ]
  },
  {
   "cell_type": "code",
   "execution_count": 160,
   "metadata": {},
   "outputs": [
    {
     "name": "stdout",
     "output_type": "stream",
     "text": [
      "[[  32.  666.   96.]\n",
      " [ 888.  999. 1010.]]\n"
     ]
    }
   ],
   "source": [
    "# 运算与基本操作\n",
    "# print(v)\n",
    "v.assign(2 * v)  # 将变量与数值相乘\n",
    "# print(v)\n",
    "v[0, 1].assign(666)  # 改变某个位置的值\n",
    "v[1].assign([888., 999., 1010])  # 修改某行数值\n",
    "print(v.numpy())"
   ]
  },
  {
   "cell_type": "code",
   "execution_count": 161,
   "metadata": {},
   "outputs": [
    {
     "name": "stdout",
     "output_type": "stream",
     "text": [
      "'ResourceVariable' object does not support item assignment\n"
     ]
    }
   ],
   "source": [
    "# 直接使用python原生列表取下标赋值的方法会报错\n",
    "try:\n",
    "    v[1] = [111., 222., 333.]\n",
    "except TypeError as ex:\n",
    "    print(ex)"
   ]
  },
  {
   "cell_type": "code",
   "execution_count": null,
   "metadata": {},
   "outputs": [],
   "source": []
  }
 ],
 "metadata": {
  "kernelspec": {
   "display_name": "Python 3",
   "language": "python",
   "name": "python3"
  },
  "language_info": {
   "codemirror_mode": {
    "name": "ipython",
    "version": 3
   },
   "file_extension": ".py",
   "mimetype": "text/x-python",
   "name": "python",
   "nbconvert_exporter": "python",
   "pygments_lexer": "ipython3",
   "version": "3.8.2"
  }
 },
 "nbformat": 4,
 "nbformat_minor": 4
}
