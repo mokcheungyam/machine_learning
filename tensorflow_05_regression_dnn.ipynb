{
 "cells": [
  {
   "cell_type": "code",
   "execution_count": 1,
   "metadata": {},
   "outputs": [],
   "source": [
    "import matplotlib as mpl\n",
    "import matplotlib.pyplot as plt\n",
    "import numpy as np\n",
    "import sklearn\n",
    "import pandas as pd\n",
    "import os\n",
    "import sys\n",
    "import time\n",
    "import tensorflow as tf\n",
    "from tensorflow import keras"
   ]
  },
  {
   "cell_type": "markdown",
   "metadata": {},
   "source": [
    "### 1.获取数据集"
   ]
  },
  {
   "cell_type": "code",
   "execution_count": 3,
   "metadata": {},
   "outputs": [],
   "source": [
    "fashion_mnist = keras.datasets.fashion_mnist  # 将keras中的datasets的fashion_mnis类指向一个变量名\n",
    "(x_train_all, y_train_all), (x_test, y_test) = fashion_mnist.load_data()  # 使用这个类中的load_data()函数加载数据\n",
    "\n",
    "# 自行切分验证集合与训练集\n",
    "x_valid, x_train = x_train_all[:5000], x_train_all[5000:]\n",
    "y_valid, y_train = y_train_all[:5000], y_train_all[5000:]"
   ]
  },
  {
   "cell_type": "markdown",
   "metadata": {},
   "source": [
    "### 2.特征工程"
   ]
  },
  {
   "cell_type": "code",
   "execution_count": 5,
   "metadata": {},
   "outputs": [],
   "source": [
    "from sklearn.preprocessing import StandardScaler\n",
    "\n",
    "# 对训练集、验证集、测试集进行规范化\n",
    "scaler = StandardScaler()\n",
    "x_train_scaled = scaler.fit_transform(\n",
    "    x_train.astype(np.float32).reshape(-1, 1)).reshape(-1, 28, 28)\n",
    "x_valid_scaled = scaler.transform(\n",
    "    x_valid.astype(np.float32).reshape(-1, 1)).reshape(-1, 28, 28)\n",
    "x_test_scaled = scaler.transform(\n",
    "    x_test.astype(np.float32).reshape(-1, 1)).reshape(-1, 28, 28)"
   ]
  },
  {
   "cell_type": "markdown",
   "metadata": {},
   "source": [
    "### 3.搭建模型"
   ]
  },
  {
   "cell_type": "code",
   "execution_count": 7,
   "metadata": {},
   "outputs": [
    {
     "name": "stdout",
     "output_type": "stream",
     "text": [
      "Model: \"sequential_1\"\n",
      "_________________________________________________________________\n",
      "Layer (type)                 Output Shape              Param #   \n",
      "=================================================================\n",
      "flatten_1 (Flatten)          (None, 784)               0         \n",
      "_________________________________________________________________\n",
      "dense_21 (Dense)             (None, 100)               78500     \n",
      "_________________________________________________________________\n",
      "dense_22 (Dense)             (None, 100)               10100     \n",
      "_________________________________________________________________\n",
      "dense_23 (Dense)             (None, 100)               10100     \n",
      "_________________________________________________________________\n",
      "dense_24 (Dense)             (None, 100)               10100     \n",
      "_________________________________________________________________\n",
      "dense_25 (Dense)             (None, 100)               10100     \n",
      "_________________________________________________________________\n",
      "dense_26 (Dense)             (None, 100)               10100     \n",
      "_________________________________________________________________\n",
      "dense_27 (Dense)             (None, 100)               10100     \n",
      "_________________________________________________________________\n",
      "dense_28 (Dense)             (None, 100)               10100     \n",
      "_________________________________________________________________\n",
      "dense_29 (Dense)             (None, 100)               10100     \n",
      "_________________________________________________________________\n",
      "dense_30 (Dense)             (None, 100)               10100     \n",
      "_________________________________________________________________\n",
      "dense_31 (Dense)             (None, 100)               10100     \n",
      "_________________________________________________________________\n",
      "dense_32 (Dense)             (None, 100)               10100     \n",
      "_________________________________________________________________\n",
      "dense_33 (Dense)             (None, 100)               10100     \n",
      "_________________________________________________________________\n",
      "dense_34 (Dense)             (None, 100)               10100     \n",
      "_________________________________________________________________\n",
      "dense_35 (Dense)             (None, 100)               10100     \n",
      "_________________________________________________________________\n",
      "dense_36 (Dense)             (None, 100)               10100     \n",
      "_________________________________________________________________\n",
      "dense_37 (Dense)             (None, 100)               10100     \n",
      "_________________________________________________________________\n",
      "dense_38 (Dense)             (None, 100)               10100     \n",
      "_________________________________________________________________\n",
      "dense_39 (Dense)             (None, 100)               10100     \n",
      "_________________________________________________________________\n",
      "dense_40 (Dense)             (None, 100)               10100     \n",
      "_________________________________________________________________\n",
      "dense_41 (Dense)             (None, 10)                1010      \n",
      "=================================================================\n",
      "Total params: 271,410\n",
      "Trainable params: 271,410\n",
      "Non-trainable params: 0\n",
      "_________________________________________________________________\n"
     ]
    }
   ],
   "source": [
    "# 初始化模型序列\n",
    "model = keras.models.Sequential()\n",
    "\n",
    "# 输入层，将图像矩阵数据展平为一维传入\n",
    "model.add(keras.layers.Flatten(input_shape=[28, 28]))\n",
    "\n",
    "# 添加隐藏层，20层\n",
    "for _ in range(20):\n",
    "    # 指定每层的神经元数目和激活函数\n",
    "    model.add(keras.layers.Dense(100, activation='relu'))\n",
    "\n",
    "# 输出层，最后输出神经元个数为10，激活函数为softmax计算损失值\n",
    "model.add(keras.layers.Dense(10, activation='softmax'))\n",
    "\n",
    "# 编译整个模型，指定损失函数、优化器、以及混淆矩阵使用的指标\n",
    "model.compile(loss='sparse_categorical_crossentropy',\n",
    "             optimizer=keras.optimizers.SGD(0.01),\n",
    "             metrics=['accuracy'])\n",
    "# 查看模型概要\n",
    "model.summary()"
   ]
  },
  {
   "cell_type": "markdown",
   "metadata": {},
   "source": [
    "### 4.训练模型"
   ]
  },
  {
   "cell_type": "code",
   "execution_count": 19,
   "metadata": {},
   "outputs": [
    {
     "name": "stdout",
     "output_type": "stream",
     "text": [
      "Epoch 1/50\n",
      "1719/1719 [==============================] - 7s 4ms/step - loss: 0.3129 - accuracy: 0.8899 - val_loss: 0.3470 - val_accuracy: 0.8824\n",
      "Epoch 2/50\n",
      "1719/1719 [==============================] - 7s 4ms/step - loss: 0.2993 - accuracy: 0.8937 - val_loss: 0.3652 - val_accuracy: 0.8774\n",
      "Epoch 3/50\n",
      "1719/1719 [==============================] - 7s 4ms/step - loss: 0.2887 - accuracy: 0.8983 - val_loss: 0.3532 - val_accuracy: 0.8838\n",
      "Epoch 4/50\n",
      "1719/1719 [==============================] - 7s 4ms/step - loss: 0.2749 - accuracy: 0.9022 - val_loss: 0.3432 - val_accuracy: 0.8814\n",
      "Epoch 5/50\n",
      "1719/1719 [==============================] - 7s 4ms/step - loss: 0.2689 - accuracy: 0.9038 - val_loss: 0.3417 - val_accuracy: 0.8844\n",
      "Epoch 6/50\n",
      "1719/1719 [==============================] - 7s 4ms/step - loss: 0.2595 - accuracy: 0.9071 - val_loss: 0.3405 - val_accuracy: 0.8824\n",
      "Epoch 7/50\n",
      "1719/1719 [==============================] - 7s 4ms/step - loss: 0.2516 - accuracy: 0.9099 - val_loss: 0.3497 - val_accuracy: 0.8840\n",
      "Epoch 8/50\n",
      "1719/1719 [==============================] - 7s 4ms/step - loss: 0.2492 - accuracy: 0.9107 - val_loss: 0.3425 - val_accuracy: 0.8842\n",
      "Epoch 9/50\n",
      "1719/1719 [==============================] - 7s 4ms/step - loss: 0.2366 - accuracy: 0.9158 - val_loss: 0.3396 - val_accuracy: 0.8870\n",
      "Epoch 10/50\n",
      "1719/1719 [==============================] - 7s 4ms/step - loss: 0.2322 - accuracy: 0.9164 - val_loss: 0.3654 - val_accuracy: 0.8794\n",
      "Epoch 11/50\n",
      "1719/1719 [==============================] - 7s 4ms/step - loss: 0.2286 - accuracy: 0.9175 - val_loss: 0.3279 - val_accuracy: 0.8872\n",
      "Epoch 12/50\n",
      "1719/1719 [==============================] - 7s 4ms/step - loss: 0.2216 - accuracy: 0.9194 - val_loss: 0.3367 - val_accuracy: 0.8880\n",
      "Epoch 13/50\n",
      "1719/1719 [==============================] - 8s 4ms/step - loss: 0.2171 - accuracy: 0.9213 - val_loss: 0.3249 - val_accuracy: 0.8912\n",
      "Epoch 14/50\n",
      "1719/1719 [==============================] - 7s 4ms/step - loss: 0.2111 - accuracy: 0.9236 - val_loss: 0.3531 - val_accuracy: 0.8896\n",
      "Epoch 15/50\n",
      "1719/1719 [==============================] - 7s 4ms/step - loss: 0.2058 - accuracy: 0.9261 - val_loss: 0.3747 - val_accuracy: 0.8830\n",
      "Epoch 16/50\n",
      "1719/1719 [==============================] - 7s 4ms/step - loss: 0.2036 - accuracy: 0.9259 - val_loss: 0.3591 - val_accuracy: 0.8844\n",
      "Epoch 17/50\n",
      "1719/1719 [==============================] - 7s 4ms/step - loss: 0.1944 - accuracy: 0.9305 - val_loss: 0.3590 - val_accuracy: 0.8886\n",
      "Epoch 18/50\n",
      "1719/1719 [==============================] - 7s 4ms/step - loss: 0.1886 - accuracy: 0.9329 - val_loss: 0.3594 - val_accuracy: 0.8848\n"
     ]
    }
   ],
   "source": [
    "# 指定训练过程记录输出文件位置\n",
    "logdir = './dnn-callbacks'\n",
    "if not os.path.exists(logdir):\n",
    "    os.mkdir(logdir)\n",
    "output_model_file = os.path.join(logdir, 'fashion_mnist_model.h5')\n",
    "\n",
    "# 指定回调函数\n",
    "callbacks = [\n",
    "    keras.callbacks.TensorBoard(logdir),\n",
    "    keras.callbacks.ModelCheckpoint(output_model_file,\n",
    "                                   save_best_only=True),\n",
    "    keras.callbacks.EarlyStopping(patience=5, min_delta=1e-3),\n",
    "]\n",
    "\n",
    "# 开始训练并将训练历史保存起来\n",
    "history = model.fit(x_train_scaled, y_train, epochs=50,\n",
    "                   validation_data=(x_valid_scaled, y_valid),\n",
    "                   callbacks=callbacks)"
   ]
  },
  {
   "cell_type": "markdown",
   "metadata": {},
   "source": [
    "### 5.训练过程可视化"
   ]
  },
  {
   "cell_type": "code",
   "execution_count": 21,
   "metadata": {},
   "outputs": [
    {
     "data": {
      "image/png": "[encoded data removed]",
      "text/plain": [
       "<Figure size 576x360 with 1 Axes>"
      ]
     },
     "metadata": {
      "needs_background": "light"
     },
     "output_type": "display_data"
    }
   ],
   "source": [
    "# 定义绘图函数\n",
    "def plot_learning_curves(history):\n",
    "    pd.DataFrame(history.history).plot(figsize=(8, 5))\n",
    "    plt.grid(True)\n",
    "#     plt.gca().set_ylim(0, 2)  # 限制坐标轴大小\n",
    "#     plt.gca().set_xlim(0, 9)\n",
    "    plt.show()\n",
    "\n",
    "plot_learning_curves(history)"
   ]
  },
  {
   "cell_type": "markdown",
   "metadata": {},
   "source": [
    "### 6.使用测试集评估模型"
   ]
  },
  {
   "cell_type": "code",
   "execution_count": 22,
   "metadata": {},
   "outputs": [
    {
     "data": {
      "text/plain": [
       "[0.401534765958786, 0.8729000091552734]"
      ]
     },
     "execution_count": 22,
     "metadata": {},
     "output_type": "execute_result"
    }
   ],
   "source": [
    "model.evaluate(x_test_scaled, y_test, verbose=0)  # verbose指定是否输出计算过程，0为不输出，1为输出，2为每一个epochs都输出，默认为1"
   ]
  },
  {
   "cell_type": "code",
   "execution_count": null,
   "metadata": {},
   "outputs": [],
   "source": []
  }
 ],
 "metadata": {
  "kernelspec": {
   "display_name": "Python 3",
   "language": "python",
   "name": "python3"
  },
  "language_info": {
   "codemirror_mode": {
    "name": "ipython",
    "version": 3
   },
   "file_extension": ".py",
   "mimetype": "text/x-python",
   "name": "python",
   "nbconvert_exporter": "python",
   "pygments_lexer": "ipython3",
   "version": "3.8.2"
  }
 },
 "nbformat": 4,
 "nbformat_minor": 4
}
