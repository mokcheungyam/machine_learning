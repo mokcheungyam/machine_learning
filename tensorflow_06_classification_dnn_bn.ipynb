{
 "cells": [
  {
   "cell_type": "code",
   "execution_count": 16,
   "metadata": {},
   "outputs": [],
   "source": [
    "import matplotlib as mpl\n",
    "import matplotlib.pyplot as plt\n",
    "import numpy as np\n",
    "import sklearn\n",
    "import pandas as pd\n",
    "import os\n",
    "import sys\n",
    "import time\n",
    "import tensorflow as tf\n",
    "from tensorflow import keras"
   ]
  },
  {
   "cell_type": "code",
   "execution_count": 17,
   "metadata": {},
   "outputs": [],
   "source": [
    "fashion_mnist = keras.datasets.fashion_mnist\n",
    "(x_train_all, y_train_all), (x_test, y_test) = fashion_mnist.load_data()\n",
    "x_valid, x_train = x_train_all[:5000], x_train_all[5000:]\n",
    "y_valid, y_train = y_train_all[:5000], y_train_all[5000:]"
   ]
  },
  {
   "cell_type": "code",
   "execution_count": 18,
   "metadata": {},
   "outputs": [],
   "source": [
    "from sklearn.preprocessing import StandardScaler\n",
    "\n",
    "scaler = StandardScaler()\n",
    "\n",
    "x_train_scaled = scaler.fit_transform(\n",
    "    x_train.astype(np.float32).reshape(-1, 1)).reshape(-1, 28, 28)\n",
    "x_valid_scaled = scaler.transform(\n",
    "    x_valid.astype(np.float32).reshape(-1, 1)).reshape(-1, 28, 28)\n",
    "x_test_scaled = scaler.transform(\n",
    "    x_test.astype(np.float32).reshape(-1, 1)).reshape(-1, 28, 28)"
   ]
  },
  {
   "cell_type": "code",
   "execution_count": 29,
   "metadata": {},
   "outputs": [],
   "source": [
    "model = keras.models.Sequential()\n",
    "\n",
    "model.add(keras.layers.Flatten(input_shape=[28, 28]))\n",
    "\n",
    "# 添加BatchNormalization 批均一化，其实是对每一次的训练集都进行规范化\n",
    "for _ in range(20):\n",
    "    model.add(keras.layers.Dense(100, activation='relu'))\n",
    "    model.add(keras.layers.BatchNormalization())\n",
    "\n",
    "model.add(keras.layers.Dense(10, activation='softmax'))\n",
    "\n",
    "model.compile(loss='sparse_categorical_crossentropy',\n",
    "             optimizer=keras.optimizers.SGD(0.001),\n",
    "             metrics=['accuracy'])\n",
    "\n",
    "# model.summary()"
   ]
  },
  {
   "cell_type": "code",
   "execution_count": 34,
   "metadata": {},
   "outputs": [
    {
     "name": "stdout",
     "output_type": "stream",
     "text": [
      "Epoch 1/50\n",
      "1719/1719 [==============================] - 13s 8ms/step - loss: 0.4232 - accuracy: 0.8520 - val_loss: 0.3602 - val_accuracy: 0.8746\n",
      "Epoch 2/50\n",
      "1719/1719 [==============================] - 13s 7ms/step - loss: 0.4160 - accuracy: 0.8547 - val_loss: 0.3613 - val_accuracy: 0.8760\n",
      "Epoch 3/50\n",
      "1719/1719 [==============================] - 13s 7ms/step - loss: 0.4073 - accuracy: 0.8595 - val_loss: 0.3540 - val_accuracy: 0.8782\n",
      "Epoch 4/50\n",
      "1719/1719 [==============================] - 12s 7ms/step - loss: 0.3938 - accuracy: 0.8628 - val_loss: 0.3546 - val_accuracy: 0.8720\n",
      "Epoch 5/50\n",
      "1719/1719 [==============================] - 12s 7ms/step - loss: 0.3867 - accuracy: 0.8656 - val_loss: 0.3448 - val_accuracy: 0.8798\n",
      "Epoch 6/50\n",
      "1719/1719 [==============================] - 13s 8ms/step - loss: 0.3805 - accuracy: 0.8663 - val_loss: 0.3529 - val_accuracy: 0.8754\n",
      "Epoch 7/50\n",
      "1719/1719 [==============================] - 13s 8ms/step - loss: 0.3716 - accuracy: 0.8704 - val_loss: 0.3336 - val_accuracy: 0.8820\n",
      "Epoch 8/50\n",
      "1719/1719 [==============================] - 13s 7ms/step - loss: 0.3673 - accuracy: 0.8722 - val_loss: 0.3553 - val_accuracy: 0.8686\n",
      "Epoch 9/50\n",
      "1719/1719 [==============================] - 13s 7ms/step - loss: 0.3586 - accuracy: 0.8748 - val_loss: 0.3532 - val_accuracy: 0.8766\n",
      "Epoch 10/50\n",
      "1719/1719 [==============================] - 13s 8ms/step - loss: 0.3570 - accuracy: 0.8749 - val_loss: 0.3263 - val_accuracy: 0.8858\n",
      "Epoch 11/50\n",
      "1719/1719 [==============================] - 13s 7ms/step - loss: 0.3491 - accuracy: 0.8793 - val_loss: 0.3551 - val_accuracy: 0.8796\n",
      "Epoch 12/50\n",
      "1719/1719 [==============================] - 13s 8ms/step - loss: 0.3450 - accuracy: 0.8791 - val_loss: 0.3278 - val_accuracy: 0.8848\n",
      "Epoch 13/50\n",
      "1719/1719 [==============================] - 13s 8ms/step - loss: 0.3381 - accuracy: 0.8809 - val_loss: 0.3364 - val_accuracy: 0.8816\n",
      "Epoch 14/50\n",
      "1719/1719 [==============================] - 13s 8ms/step - loss: 0.3323 - accuracy: 0.8835 - val_loss: 0.3326 - val_accuracy: 0.8830\n",
      "Epoch 15/50\n",
      "1719/1719 [==============================] - 14s 8ms/step - loss: 0.3278 - accuracy: 0.8858 - val_loss: 0.3312 - val_accuracy: 0.8866\n"
     ]
    }
   ],
   "source": [
    "logdir = './dnn-bn-callbacks'\n",
    "if not os.path.exists(logdir):\n",
    "    os.mkdir(logdir)\n",
    "\n",
    "output_model_file = os.path.join(logdir, 'fashion_mnist_model.h5')\n",
    "\n",
    "callbacks = [\n",
    "    keras.callbacks.TensorBoard(logdir),\n",
    "    keras.callbacks.ModelCheckpoint(output_model_file,\n",
    "                                    save_best_only=True),\n",
    "    keras.callbacks.EarlyStopping(patience=5, min_delta=1e-3),\n",
    "]\n",
    "\n",
    "history = model.fit(x_train_scaled, y_train, epochs=50,\n",
    "                   validation_data=(x_valid_scaled, y_valid),\n",
    "                   callbacks=callbacks)"
   ]
  },
  {
   "cell_type": "code",
   "execution_count": 31,
   "metadata": {},
   "outputs": [],
   "source": [
    "# history.history"
   ]
  },
  {
   "cell_type": "code",
   "execution_count": 35,
   "metadata": {},
   "outputs": [
    {
     "data": {
      "image/png": "[encoded data removed]",
      "text/plain": [
       "<Figure size 576x360 with 1 Axes>"
      ]
     },
     "metadata": {
      "needs_background": "light"
     },
     "output_type": "display_data"
    }
   ],
   "source": [
    "def plot_learning_curves(history):\n",
    "    pd.DataFrame(history.history).plot(figsize=(8, 5))\n",
    "    plt.grid(True)\n",
    "    plt.gca().set_ylim(0, 3)\n",
    "    plt.show()\n",
    "\n",
    "plot_learning_curves(history)"
   ]
  },
  {
   "cell_type": "code",
   "execution_count": 36,
   "metadata": {},
   "outputs": [
    {
     "name": "stdout",
     "output_type": "stream",
     "text": [
      "313/313 [==============================] - 1s 3ms/step - loss: 0.3624 - accuracy: 0.8737: 0s - loss: 0.3754 - ac\n"
     ]
    },
    {
     "data": {
      "text/plain": [
       "[0.3624162971973419, 0.8737000226974487]"
      ]
     },
     "execution_count": 36,
     "metadata": {},
     "output_type": "execute_result"
    }
   ],
   "source": [
    "model.evaluate(x_test_scaled, y_test)"
   ]
  },
  {
   "cell_type": "code",
   "execution_count": null,
   "metadata": {},
   "outputs": [],
   "source": []
  }
 ],
 "metadata": {
  "kernelspec": {
   "display_name": "Python 3",
   "language": "python",
   "name": "python3"
  },
  "language_info": {
   "codemirror_mode": {
    "name": "ipython",
    "version": 3
   },
   "file_extension": ".py",
   "mimetype": "text/x-python",
   "name": "python",
   "nbconvert_exporter": "python",
   "pygments_lexer": "ipython3",
   "version": "3.8.2"
  }
 },
 "nbformat": 4,
 "nbformat_minor": 4
}
