{
 "cells": [
  {
   "cell_type": "code",
   "execution_count": 1,
   "metadata": {},
   "outputs": [],
   "source": [
    "import matplotlib as mpl\n",
    "import matplotlib.pyplot as plt\n",
    "import numpy as np\n",
    "import sklearn\n",
    "import pandas as pd\n",
    "import os\n",
    "import sys\n",
    "import time\n",
    "import tensorflow as tf\n",
    "from tensorflow import keras"
   ]
  },
  {
   "cell_type": "code",
   "execution_count": 3,
   "metadata": {},
   "outputs": [],
   "source": [
    "fashion_mnist = keras.datasets.fashion_mnist\n",
    "(x_train_all, y_train_all), (x_test, y_test) = fashion_mnist.load_data()\n",
    "x_valid, x_train = x_train_all[:5000], x_train_all[5000:]\n",
    "y_valid, y_train = y_train_all[:5000], y_train_all[5000:]\n"
   ]
  },
  {
   "cell_type": "code",
   "execution_count": 4,
   "metadata": {},
   "outputs": [],
   "source": [
    "from sklearn.preprocessing import StandardScaler\n",
    "\n",
    "scaler = StandardScaler()\n",
    "x_train_scaled = scaler.fit_transform(\n",
    "    x_train.astype(np.float32).reshape(-1, 1)).reshape(-1, 28, 28)\n",
    "x_valid_scaled = scaler.transform(\n",
    "    x_valid.astype(np.float32).reshape(-1, 1)).reshape(-1, 28, 28)\n",
    "x_test_scaled = scaler.transform(\n",
    "    x_test.astype(np.float32).reshape(-1, 1)).reshape(-1, 28, 28)\n"
   ]
  },
  {
   "cell_type": "code",
   "execution_count": 25,
   "metadata": {},
   "outputs": [],
   "source": [
    "# 使用dropout\n",
    "model = keras.models.Sequential()\n",
    "model.add(keras.layers.Flatten(input_shape=[28, 28]))\n",
    "for _ in range(20):\n",
    "    model.add(keras.layers.Dense(100, activation=\"selu\"))\n",
    "# model.add(keras.layers.AlphaDropout(rate=0.5))\n",
    "# AlphaDropout相对于普通Dropout优势: 1. 均值和方差不变 2. 归一化性质也不变\n",
    "model.add(keras.layers.Dropout(rate=0.5))  # Dropout直接将神经元乘以0\n",
    "model.add(keras.layers.Dense(10, activation=\"softmax\"))\n",
    "\n",
    "model.compile(loss=\"sparse_categorical_crossentropy\",\n",
    "              optimizer = keras.optimizers.SGD(0.001),\n",
    "              metrics = [\"accuracy\"])"
   ]
  },
  {
   "cell_type": "code",
   "execution_count": 26,
   "metadata": {},
   "outputs": [
    {
     "name": "stdout",
     "output_type": "stream",
     "text": [
      "Epoch 1/100\n",
      "1719/1719 [==============================] - 7s 4ms/step - loss: 0.9065 - accuracy: 0.6956 - val_loss: 0.5278 - val_accuracy: 0.8160\n",
      "Epoch 2/100\n",
      "1719/1719 [==============================] - 7s 4ms/step - loss: 0.5799 - accuracy: 0.8029 - val_loss: 0.4694 - val_accuracy: 0.8350\n",
      "Epoch 3/100\n",
      "1719/1719 [==============================] - 6s 4ms/step - loss: 0.5108 - accuracy: 0.8259 - val_loss: 0.4346 - val_accuracy: 0.8470\n",
      "Epoch 4/100\n",
      "1719/1719 [==============================] - 7s 4ms/step - loss: 0.4631 - accuracy: 0.8390 - val_loss: 0.4184 - val_accuracy: 0.8566\n",
      "Epoch 5/100\n",
      "1719/1719 [==============================] - 6s 4ms/step - loss: 0.4334 - accuracy: 0.8484 - val_loss: 0.4408 - val_accuracy: 0.8348\n",
      "Epoch 6/100\n",
      "1719/1719 [==============================] - 7s 4ms/step - loss: 0.4114 - accuracy: 0.8548 - val_loss: 0.4038 - val_accuracy: 0.8564\n",
      "Epoch 7/100\n",
      "1719/1719 [==============================] - 7s 4ms/step - loss: 0.3929 - accuracy: 0.8609 - val_loss: 0.4314 - val_accuracy: 0.8480\n",
      "Epoch 8/100\n",
      "1719/1719 [==============================] - 7s 4ms/step - loss: 0.3773 - accuracy: 0.8694 - val_loss: 0.3793 - val_accuracy: 0.8680\n",
      "Epoch 9/100\n",
      "1719/1719 [==============================] - 7s 4ms/step - loss: 0.3647 - accuracy: 0.8721 - val_loss: 0.3748 - val_accuracy: 0.8706\n",
      "Epoch 10/100\n",
      "1719/1719 [==============================] - 8s 4ms/step - loss: 0.3518 - accuracy: 0.8751 - val_loss: 0.3639 - val_accuracy: 0.8732\n",
      "Epoch 11/100\n",
      "1719/1719 [==============================] - 7s 4ms/step - loss: 0.3397 - accuracy: 0.8801 - val_loss: 0.3675 - val_accuracy: 0.8706\n",
      "Epoch 12/100\n",
      "1719/1719 [==============================] - 7s 4ms/step - loss: 0.3327 - accuracy: 0.8822 - val_loss: 0.3631 - val_accuracy: 0.8708\n",
      "Epoch 13/100\n",
      "1719/1719 [==============================] - 9s 5ms/step - loss: 0.3233 - accuracy: 0.8863 - val_loss: 0.3598 - val_accuracy: 0.8748\n",
      "Epoch 14/100\n",
      "1719/1719 [==============================] - 8s 5ms/step - loss: 0.3151 - accuracy: 0.8882 - val_loss: 0.3580 - val_accuracy: 0.8746\n",
      "Epoch 15/100\n",
      "1719/1719 [==============================] - 7s 4ms/step - loss: 0.3060 - accuracy: 0.8910 - val_loss: 0.3780 - val_accuracy: 0.8734\n",
      "Epoch 16/100\n",
      "1719/1719 [==============================] - 7s 4ms/step - loss: 0.2989 - accuracy: 0.8930 - val_loss: 0.3544 - val_accuracy: 0.8770\n",
      "Epoch 17/100\n",
      "1719/1719 [==============================] - 7s 4ms/step - loss: 0.2945 - accuracy: 0.8943 - val_loss: 0.3722 - val_accuracy: 0.8728\n",
      "Epoch 18/100\n",
      "1719/1719 [==============================] - 6s 4ms/step - loss: 0.2857 - accuracy: 0.8977 - val_loss: 0.3518 - val_accuracy: 0.8764\n",
      "Epoch 19/100\n",
      "1719/1719 [==============================] - 7s 4ms/step - loss: 0.2820 - accuracy: 0.8997 - val_loss: 0.3928 - val_accuracy: 0.8628\n",
      "Epoch 20/100\n",
      "1719/1719 [==============================] - 7s 4ms/step - loss: 0.2745 - accuracy: 0.9018 - val_loss: 0.3578 - val_accuracy: 0.8752\n",
      "Epoch 21/100\n",
      "1719/1719 [==============================] - 7s 4ms/step - loss: 0.2665 - accuracy: 0.9024 - val_loss: 0.3538 - val_accuracy: 0.8784\n",
      "Epoch 22/100\n",
      "1719/1719 [==============================] - 6s 4ms/step - loss: 0.2636 - accuracy: 0.9046 - val_loss: 0.3458 - val_accuracy: 0.8774\n",
      "Epoch 23/100\n",
      "1719/1719 [==============================] - 6s 4ms/step - loss: 0.2605 - accuracy: 0.9074 - val_loss: 0.3710 - val_accuracy: 0.8756\n",
      "Epoch 24/100\n",
      "1719/1719 [==============================] - 6s 4ms/step - loss: 0.2545 - accuracy: 0.9079 - val_loss: 0.3611 - val_accuracy: 0.8772\n",
      "Epoch 25/100\n",
      "1719/1719 [==============================] - 6s 4ms/step - loss: 0.2504 - accuracy: 0.9107 - val_loss: 0.3583 - val_accuracy: 0.8794\n",
      "Epoch 26/100\n",
      "1719/1719 [==============================] - 6s 4ms/step - loss: 0.2438 - accuracy: 0.9131 - val_loss: 0.3624 - val_accuracy: 0.8826\n",
      "Epoch 27/100\n",
      "1719/1719 [==============================] - 7s 4ms/step - loss: 0.2392 - accuracy: 0.9139 - val_loss: 0.3638 - val_accuracy: 0.8810\n"
     ]
    }
   ],
   "source": [
    "logdir = './dnn-selu-dropout-callbacks'\n",
    "if not os.path.exists(logdir):\n",
    "    os.mkdir(logdir)\n",
    "output_model_file = os.path.join(logdir,\n",
    "                                 \"fashion_mnist_model.h5\")\n",
    "\n",
    "callbacks = [\n",
    "    keras.callbacks.TensorBoard(logdir),\n",
    "    keras.callbacks.ModelCheckpoint(output_model_file,\n",
    "                                    save_best_only = True),\n",
    "    keras.callbacks.EarlyStopping(patience=5, min_delta=1e-3),\n",
    "]\n",
    "history = model.fit(x_train_scaled, y_train, epochs=100,\n",
    "                    validation_data=(x_valid_scaled, y_valid),\n",
    "                    callbacks = callbacks)"
   ]
  },
  {
   "cell_type": "code",
   "execution_count": 27,
   "metadata": {},
   "outputs": [
    {
     "data": {
      "image/png": "[encoded data removed]",
      "text/plain": [
       "<Figure size 576x360 with 1 Axes>"
      ]
     },
     "metadata": {
      "needs_background": "light"
     },
     "output_type": "display_data"
    }
   ],
   "source": [
    "def plot_learning_curves(history):\n",
    "    pd.DataFrame(history.history).plot(figsize=(8, 5))\n",
    "    plt.grid(True)\n",
    "    plt.gca().set_ylim(0, 1)\n",
    "    plt.show()\n",
    "\n",
    "plot_learning_curves(history)"
   ]
  },
  {
   "cell_type": "code",
   "execution_count": 28,
   "metadata": {},
   "outputs": [
    {
     "data": {
      "text/plain": [
       "[0.39229515194892883, 0.8712000250816345]"
      ]
     },
     "execution_count": 28,
     "metadata": {},
     "output_type": "execute_result"
    }
   ],
   "source": [
    "model.evaluate(x_test_scaled, y_test, verbose=0)"
   ]
  },
  {
   "cell_type": "code",
   "execution_count": null,
   "metadata": {},
   "outputs": [],
   "source": []
  }
 ],
 "metadata": {
  "kernelspec": {
   "display_name": "Python 3",
   "language": "python",
   "name": "python3"
  },
  "language_info": {
   "codemirror_mode": {
    "name": "ipython",
    "version": 3
   },
   "file_extension": ".py",
   "mimetype": "text/x-python",
   "name": "python",
   "nbconvert_exporter": "python",
   "pygments_lexer": "ipython3",
   "version": "3.8.2"
  }
 },
 "nbformat": 4,
 "nbformat_minor": 4
}
