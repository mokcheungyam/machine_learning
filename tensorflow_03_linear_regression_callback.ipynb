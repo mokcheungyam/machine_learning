{
 "cells": [
  {
   "cell_type": "code",
   "execution_count": 2,
   "metadata": {},
   "outputs": [],
   "source": [
    "import matplotlib as mpl\n",
    "import matplotlib.pyplot as plt\n",
    "import numpy as np\n",
    "import sklearn\n",
    "import pandas as pd\n",
    "import os\n",
    "import sys\n",
    "import time\n",
    "import tensorflow as tf\n",
    "\n",
    "from tensorflow import keras"
   ]
  },
  {
   "cell_type": "code",
   "execution_count": 4,
   "metadata": {},
   "outputs": [],
   "source": [
    "fashion_mnist = keras.datasets.fashion_mnist\n",
    "(x_train_all, y_train_all), (x_test, y_test) = fashion_mnist.load_data()\n",
    "x_valid, x_train = x_train_all[:5000], x_train_all[5000:]\n",
    "y_valid, y_train = y_train_all[:5000], y_train_all[5000:]"
   ]
  },
  {
   "cell_type": "code",
   "execution_count": 6,
   "metadata": {},
   "outputs": [],
   "source": [
    "from sklearn.preprocessing import StandardScaler\n",
    "\n",
    "scaler = StandardScaler()\n",
    "x_train_scaled = scaler.fit_transform(\n",
    "    x_train.astype(np.float32).reshape(-1, 1)).reshape(-1, 28, 28)\n",
    "x_valid_scaled = scaler.transform(\n",
    "    x_valid.astype(np.float32).reshape(-1, 1)).reshape(-1, 28, 28)\n",
    "x_test_scaled = scaler.transform(\n",
    "    x_test.astype(np.float32).reshape(-1, 1)).reshape(-1, 28, 28)"
   ]
  },
  {
   "cell_type": "code",
   "execution_count": 7,
   "metadata": {},
   "outputs": [],
   "source": [
    "model = keras.models.Sequential([\n",
    "    keras.layers.Flatten(input_shape=[28, 28]),\n",
    "    keras.layers.Dense(300, activation='relu'),\n",
    "    keras.layers.Dense(100, activation='relu'),\n",
    "    keras.layers.Dense(10, activation='softmax')\n",
    "])\n",
    "\n",
    "model.compile(loss=\"sparse_categorical_crossentropy\",\n",
    "              optimizer = keras.optimizers.SGD(0.001),\n",
    "              metrics = [\"accuracy\"])"
   ]
  },
  {
   "cell_type": "code",
   "execution_count": 15,
   "metadata": {},
   "outputs": [
    {
     "name": "stdout",
     "output_type": "stream",
     "text": [
      "Epoch 1/70\n",
      "1719/1719 [==============================] - 6s 3ms/step - loss: 0.2469 - accuracy: 0.9138 - val_loss: 0.3088 - val_accuracy: 0.8910\n",
      "Epoch 2/70\n",
      "1719/1719 [==============================] - 6s 3ms/step - loss: 0.2452 - accuracy: 0.9140 - val_loss: 0.3104 - val_accuracy: 0.8906\n",
      "Epoch 3/70\n",
      "1719/1719 [==============================] - 5s 3ms/step - loss: 0.2439 - accuracy: 0.9145 - val_loss: 0.3084 - val_accuracy: 0.8922\n",
      "Epoch 4/70\n",
      "1719/1719 [==============================] - 5s 3ms/step - loss: 0.2422 - accuracy: 0.9154 - val_loss: 0.3073 - val_accuracy: 0.8916\n",
      "Epoch 5/70\n",
      "1719/1719 [==============================] - 5s 3ms/step - loss: 0.2407 - accuracy: 0.9159 - val_loss: 0.3062 - val_accuracy: 0.8906\n",
      "Epoch 6/70\n",
      "1719/1719 [==============================] - 5s 3ms/step - loss: 0.2391 - accuracy: 0.9173 - val_loss: 0.3083 - val_accuracy: 0.8928\n",
      "Epoch 7/70\n",
      "1719/1719 [==============================] - 5s 3ms/step - loss: 0.2376 - accuracy: 0.9170 - val_loss: 0.3074 - val_accuracy: 0.8910\n",
      "Epoch 8/70\n",
      "1719/1719 [==============================] - 5s 3ms/step - loss: 0.2363 - accuracy: 0.9178 - val_loss: 0.3062 - val_accuracy: 0.8914\n",
      "Epoch 9/70\n",
      "1719/1719 [==============================] - 5s 3ms/step - loss: 0.2347 - accuracy: 0.9187 - val_loss: 0.3076 - val_accuracy: 0.8902\n",
      "Epoch 10/70\n",
      "1719/1719 [==============================] - 5s 3ms/step - loss: 0.2331 - accuracy: 0.9180 - val_loss: 0.3099 - val_accuracy: 0.8908\n"
     ]
    }
   ],
   "source": [
    "# 回调函数/可视化\n",
    "# 创建callbacks文件夹并加入系统搜索路径\n",
    "logdir = './callbacks'\n",
    "if not os.path.exists(logdir):\n",
    "    os.mkdir(logdir)\n",
    "output_model_file = os.path.join(logdir, 'fashion_mnist_model.h5')\n",
    "\n",
    "# 指定回调函数\n",
    "callbacks = [\n",
    "    keras.callbacks.TensorBoard(logdir),\n",
    "    keras.callbacks.ModelCheckpoint(output_model_file,\n",
    "                                   save_best_only=True),\n",
    "    keras.callbacks.EarlyStopping(patience=5, min_delta=1e-3),\n",
    "]\n",
    "\n",
    "# 对模型进行训练\n",
    "history = model.fit(x_train_scaled, y_train, epochs=70, \n",
    "                   validation_data=(x_valid_scaled, y_valid),\n",
    "                   callbacks=callbacks)"
   ]
  },
  {
   "cell_type": "code",
   "execution_count": 16,
   "metadata": {},
   "outputs": [
    {
     "data": {
      "image/png": "[encoded data removed]",
      "text/plain": [
       "<Figure size 576x360 with 1 Axes>"
      ]
     },
     "metadata": {
      "needs_background": "light"
     },
     "output_type": "display_data"
    }
   ],
   "source": [
    "def plot_learning_curves(history):\n",
    "    pd.DataFrame(history.history).plot(figsize=(8, 5))\n",
    "    plt.grid(True)\n",
    "    plt.gca().set_ylim(0, 1)\n",
    "    plt.show()\n",
    "\n",
    "plot_learning_curves(history)"
   ]
  },
  {
   "cell_type": "code",
   "execution_count": 17,
   "metadata": {},
   "outputs": [
    {
     "data": {
      "text/plain": [
       "[0.3411165177822113, 0.8791999816894531]"
      ]
     },
     "execution_count": 17,
     "metadata": {},
     "output_type": "execute_result"
    }
   ],
   "source": [
    "model.evaluate(x_test_scaled, y_test, verbose=0)"
   ]
  },
  {
   "cell_type": "code",
   "execution_count": null,
   "metadata": {},
   "outputs": [],
   "source": []
  }
 ],
 "metadata": {
  "kernelspec": {
   "display_name": "Python 3",
   "language": "python",
   "name": "python3"
  },
  "language_info": {
   "codemirror_mode": {
    "name": "ipython",
    "version": 3
   },
   "file_extension": ".py",
   "mimetype": "text/x-python",
   "name": "python",
   "nbconvert_exporter": "python",
   "pygments_lexer": "ipython3",
   "version": "3.8.2"
  }
 },
 "nbformat": 4,
 "nbformat_minor": 4
}
