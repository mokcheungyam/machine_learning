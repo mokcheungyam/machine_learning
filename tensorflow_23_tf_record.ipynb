{
 "cells": [
  {
   "cell_type": "code",
   "execution_count": 1,
   "metadata": {},
   "outputs": [
    {
     "name": "stdout",
     "output_type": "stream",
     "text": [
      "2.2.0\n",
      "sys.version_info(major=3, minor=8, micro=2, releaselevel='final', serial=0)\n",
      "matplotlib 3.2.1\n",
      "numpy 1.18.5\n",
      "pandas 1.0.4\n",
      "sklearn 0.23.1\n",
      "tensorflow 2.2.0\n",
      "tensorflow.keras 2.3.0-tf\n"
     ]
    }
   ],
   "source": [
    "import matplotlib as mpl\n",
    "import matplotlib.pyplot as plt\n",
    "%matplotlib inline\n",
    "import numpy as np\n",
    "import sklearn\n",
    "import pandas as pd\n",
    "import os\n",
    "import sys\n",
    "import time\n",
    "import tensorflow as tf\n",
    "\n",
    "from tensorflow import keras\n",
    "\n",
    "print(tf.__version__)\n",
    "print(sys.version_info)\n",
    "for module in mpl, np, pd, sklearn, tf, keras:\n",
    "    print(module.__name__, module.__version__)"
   ]
  },
  {
   "cell_type": "code",
   "execution_count": 4,
   "metadata": {},
   "outputs": [
    {
     "name": "stdout",
     "output_type": "stream",
     "text": [
      "[b'machine learning', b'cc150']\n",
      "value: \"machine learning\"\n",
      "value: \"cc150\"\n",
      "\n",
      "<class 'tensorflow.core.example.feature_pb2.BytesList'>\n"
     ]
    }
   ],
   "source": [
    "# TFRecord格式是一种用于存储二进制记录序列的简单格式\n",
    "\n",
    "# .encode()指定编码方式\n",
    "favorite_books = [name.encode('utf-8') for name in ['machine learning', 'cc150']]\n",
    "print(favorite_books)\n",
    "\n",
    "favorite_books_bytelist = tf.train.BytesList(value = favorite_books)\n",
    "print(favorite_books_bytelist)\n",
    "print(type(favorite_books_bytelist))  # 类型为BytesList"
   ]
  },
  {
   "cell_type": "code",
   "execution_count": 7,
   "metadata": {},
   "outputs": [
    {
     "name": "stdout",
     "output_type": "stream",
     "text": [
      "value: 15.5\n",
      "value: 6.900000095367432\n",
      "value: 4.0\n",
      "value: 5.300000190734863\n",
      "\n",
      "<class 'tensorflow.core.example.feature_pb2.FloatList'>\n"
     ]
    }
   ],
   "source": [
    "hours_floatlist = tf.train.FloatList(value=[15.5, 6.9, 4.0, 5.3])\n",
    "print(hours_floatlist)\n",
    "print(type(hours_floatlist))  # 类型为FloatList"
   ]
  },
  {
   "cell_type": "code",
   "execution_count": 10,
   "metadata": {},
   "outputs": [
    {
     "name": "stdout",
     "output_type": "stream",
     "text": [
      "value: 42\n",
      "\n",
      "<class 'tensorflow.core.example.feature_pb2.Int64List'>\n"
     ]
    }
   ],
   "source": [
    "age_int64list = tf.train.Int64List(value=[42])\n",
    "print(age_int64list)\n",
    "print(type(age_int64list))  # 类型为Int64List"
   ]
  },
  {
   "cell_type": "code",
   "execution_count": 15,
   "metadata": {},
   "outputs": [
    {
     "name": "stdout",
     "output_type": "stream",
     "text": [
      "feature {\n",
      "  key: \"age\"\n",
      "  value {\n",
      "    int64_list {\n",
      "      value: 42\n",
      "    }\n",
      "  }\n",
      "}\n",
      "feature {\n",
      "  key: \"favorite_books\"\n",
      "  value {\n",
      "    bytes_list {\n",
      "      value: \"machine learning\"\n",
      "      value: \"cc150\"\n",
      "    }\n",
      "  }\n",
      "}\n",
      "feature {\n",
      "  key: \"hours\"\n",
      "  value {\n",
      "    float_list {\n",
      "      value: 15.5\n",
      "      value: 6.900000095367432\n",
      "      value: 4.0\n",
      "      value: 5.300000190734863\n",
      "    }\n",
      "  }\n",
      "}\n",
      "\n",
      "<class 'tensorflow.core.example.feature_pb2.Features'>\n"
     ]
    }
   ],
   "source": [
    "features = tf.train.Features(\n",
    "    feature = {\n",
    "        'favorite_books': tf.train.Feature(\n",
    "            bytes_list = favorite_books_bytelist),\n",
    "        'hours': tf.train.Feature(\n",
    "            float_list = hours_floatlist),\n",
    "        'age': tf.train.Feature(int64_list = age_int64list)\n",
    "    }\n",
    ")\n",
    "print(features)\n",
    "print(type(features))  # Features类似于json"
   ]
  },
  {
   "cell_type": "code",
   "execution_count": 16,
   "metadata": {},
   "outputs": [
    {
     "name": "stdout",
     "output_type": "stream",
     "text": [
      "features {\n",
      "  feature {\n",
      "    key: \"age\"\n",
      "    value {\n",
      "      int64_list {\n",
      "        value: 42\n",
      "      }\n",
      "    }\n",
      "  }\n",
      "  feature {\n",
      "    key: \"favorite_books\"\n",
      "    value {\n",
      "      bytes_list {\n",
      "        value: \"machine learning\"\n",
      "        value: \"cc150\"\n",
      "      }\n",
      "    }\n",
      "  }\n",
      "  feature {\n",
      "    key: \"hours\"\n",
      "    value {\n",
      "      float_list {\n",
      "        value: 15.5\n",
      "        value: 6.900000095367432\n",
      "        value: 4.0\n",
      "        value: 5.300000190734863\n",
      "      }\n",
      "    }\n",
      "  }\n",
      "}\n",
      "\n",
      "<class 'tensorflow.core.example.example_pb2.Example'>\n"
     ]
    }
   ],
   "source": [
    "example = tf.train.Example(features=features)\n",
    "print(example)\n",
    "print(type(example))  # Example"
   ]
  },
  {
   "cell_type": "code",
   "execution_count": 19,
   "metadata": {},
   "outputs": [
    {
     "name": "stdout",
     "output_type": "stream",
     "text": [
      "b'\\n\\\\\\n-\\n\\x0efavorite_books\\x12\\x1b\\n\\x19\\n\\x10machine learning\\n\\x05cc150\\n\\x0c\\n\\x03age\\x12\\x05\\x1a\\x03\\n\\x01*\\n\\x1d\\n\\x05hours\\x12\\x14\\x12\\x12\\n\\x10\\x00\\x00xA\\xcd\\xcc\\xdc@\\x00\\x00\\x80@\\x9a\\x99\\xa9@'\n",
      "<class 'bytes'>\n"
     ]
    }
   ],
   "source": [
    "serialized_example = example.SerializeToString()\n",
    "print(serialized_example)\n",
    "print(type(serialized_example))  # bytes"
   ]
  },
  {
   "cell_type": "code",
   "execution_count": 24,
   "metadata": {},
   "outputs": [],
   "source": [
    "# 生成tfrecords文件\n",
    "\n",
    "# 指定保存文件的目录\n",
    "output_dir = 'tfrecord_basic'\n",
    "if not os.path.exists(output_dir):\n",
    "    os.mkdir(output_dir)\n",
    "\n",
    "filename = 'test.tfrecords'\n",
    "filename_fullpath = os.path.join(output_dir, filename)\n",
    "\n",
    "# 使用tf.io.TFRecordWriter()\n",
    "with tf.io.TFRecordWriter(filename_fullpath) as writer:\n",
    "    for i in range(3):\n",
    "        writer.write(serialized_example)"
   ]
  },
  {
   "cell_type": "code",
   "execution_count": 26,
   "metadata": {},
   "outputs": [
    {
     "name": "stdout",
     "output_type": "stream",
     "text": [
      "tf.Tensor(b'\\n\\\\\\n-\\n\\x0efavorite_books\\x12\\x1b\\n\\x19\\n\\x10machine learning\\n\\x05cc150\\n\\x0c\\n\\x03age\\x12\\x05\\x1a\\x03\\n\\x01*\\n\\x1d\\n\\x05hours\\x12\\x14\\x12\\x12\\n\\x10\\x00\\x00xA\\xcd\\xcc\\xdc@\\x00\\x00\\x80@\\x9a\\x99\\xa9@', shape=(), dtype=string)\n",
      "<class 'tensorflow.python.framework.ops.EagerTensor'>\n",
      "tf.Tensor(b'\\n\\\\\\n-\\n\\x0efavorite_books\\x12\\x1b\\n\\x19\\n\\x10machine learning\\n\\x05cc150\\n\\x0c\\n\\x03age\\x12\\x05\\x1a\\x03\\n\\x01*\\n\\x1d\\n\\x05hours\\x12\\x14\\x12\\x12\\n\\x10\\x00\\x00xA\\xcd\\xcc\\xdc@\\x00\\x00\\x80@\\x9a\\x99\\xa9@', shape=(), dtype=string)\n",
      "<class 'tensorflow.python.framework.ops.EagerTensor'>\n",
      "tf.Tensor(b'\\n\\\\\\n-\\n\\x0efavorite_books\\x12\\x1b\\n\\x19\\n\\x10machine learning\\n\\x05cc150\\n\\x0c\\n\\x03age\\x12\\x05\\x1a\\x03\\n\\x01*\\n\\x1d\\n\\x05hours\\x12\\x14\\x12\\x12\\n\\x10\\x00\\x00xA\\xcd\\xcc\\xdc@\\x00\\x00\\x80@\\x9a\\x99\\xa9@', shape=(), dtype=string)\n",
      "<class 'tensorflow.python.framework.ops.EagerTensor'>\n"
     ]
    }
   ],
   "source": [
    "# 读取tfrecords文件，获取数据\n",
    "dataset = tf.data.TFRecordDataset([filename_fullpath])\n",
    "\n",
    "for serialized_example_tensor in dataset:\n",
    "    print(serialized_example_tensor)\n",
    "    print(type(serialized_example_tensor))  # EagerTensor"
   ]
  },
  {
   "cell_type": "code",
   "execution_count": 27,
   "metadata": {},
   "outputs": [],
   "source": [
    "# 创建feature类型数据对象\n",
    "expected_features = {\n",
    "    'favorite_books': tf.io.VarLenFeature(dtype = tf.string),\n",
    "    'hours': tf.io.VarLenFeature(dtype = tf.float32),\n",
    "    'age': tf.io.FixedLenFeature([], dtype = tf.int64),\n",
    "}"
   ]
  },
  {
   "cell_type": "code",
   "execution_count": 29,
   "metadata": {},
   "outputs": [
    {
     "name": "stdout",
     "output_type": "stream",
     "text": [
      "{'favorite_books': <tensorflow.python.framework.sparse_tensor.SparseTensor object at 0x7ff76538a520>, 'hours': <tensorflow.python.framework.sparse_tensor.SparseTensor object at 0x7ff765533310>, 'age': <tf.Tensor: shape=(), dtype=int64, numpy=42>}\n",
      "machine learning\n",
      "cc150\n",
      "{'favorite_books': <tensorflow.python.framework.sparse_tensor.SparseTensor object at 0x7ff7658cd8b0>, 'hours': <tensorflow.python.framework.sparse_tensor.SparseTensor object at 0x7ff765864b20>, 'age': <tf.Tensor: shape=(), dtype=int64, numpy=42>}\n",
      "machine learning\n",
      "cc150\n",
      "{'favorite_books': <tensorflow.python.framework.sparse_tensor.SparseTensor object at 0x7ff765533310>, 'hours': <tensorflow.python.framework.sparse_tensor.SparseTensor object at 0x7ff7651c1c10>, 'age': <tf.Tensor: shape=(), dtype=int64, numpy=42>}\n",
      "machine learning\n",
      "cc150\n"
     ]
    }
   ],
   "source": [
    "# 在指定目录下创建一个tfrecord数据集文件\n",
    "dataset = tf.data.TFRecordDataset([filename_fullpath])\n",
    "\n",
    "# 遍历数据集文件中的tensor容器，将feature序列为example对象\n",
    "for serialized_example_tensor in dataset:\n",
    "    example = tf.io.parse_single_example(\n",
    "        serialized_example_tensor,\n",
    "        expected_features\n",
    "    )\n",
    "    print(example)\n",
    "    \n",
    "    # 使用.to_dense将example转换为稀疏矩阵\n",
    "    books = tf.sparse.to_dense(example['favorite_books'],\n",
    "                              default_value=b'')\n",
    "    \n",
    "    for book in books:\n",
    "        print(book.numpy().decode('utf-8'))"
   ]
  },
  {
   "cell_type": "code",
   "execution_count": 30,
   "metadata": {},
   "outputs": [],
   "source": [
    "# 将tfrecord文件进行压缩\n",
    "# 指定压缩后的文件名\n",
    "filename_fullpath_zip = filename_fullpath + '.zip'\n",
    "\n",
    "# 指定压缩方式\n",
    "options = tf.io.TFRecordOptions(compression_type='GZIP')\n",
    "\n",
    "with tf.io.TFRecordWriter(filename_fullpath_zip, options) as writer:\n",
    "    for i in range(3):\n",
    "        writer.write(serialized_example)"
   ]
  },
  {
   "cell_type": "code",
   "execution_count": 31,
   "metadata": {},
   "outputs": [
    {
     "name": "stdout",
     "output_type": "stream",
     "text": [
      "machine learning\n",
      "cc150\n",
      "machine learning\n",
      "cc150\n",
      "machine learning\n",
      "cc150\n"
     ]
    }
   ],
   "source": [
    "# 读取压缩文件\n",
    "# 指定压缩文件和压缩方式\n",
    "dataset_zip = tf.data.TFRecordDataset([filename_fullpath_zip],\n",
    "                                     compression_type='GZIP')\n",
    "\n",
    "for serialized_example_tensor in dataset_zip:\n",
    "    example = tf.io.parse_single_example(\n",
    "        serialized_example_tensor,\n",
    "        expected_features)\n",
    "    books = tf.sparse.to_dense(example['favorite_books'],\n",
    "                              default_value=b'')\n",
    "    for book in books:\n",
    "        print(book.numpy().decode('utf-8'))"
   ]
  },
  {
   "cell_type": "code",
   "execution_count": null,
   "metadata": {},
   "outputs": [],
   "source": []
  }
 ],
 "metadata": {
  "kernelspec": {
   "display_name": "Python 3",
   "language": "python",
   "name": "python3"
  },
  "language_info": {
   "codemirror_mode": {
    "name": "ipython",
    "version": 3
   },
   "file_extension": ".py",
   "mimetype": "text/x-python",
   "name": "python",
   "nbconvert_exporter": "python",
   "pygments_lexer": "ipython3",
   "version": "3.8.2"
  }
 },
 "nbformat": 4,
 "nbformat_minor": 4
}
