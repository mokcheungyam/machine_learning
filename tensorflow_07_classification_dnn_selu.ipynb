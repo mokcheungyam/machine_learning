{
 "cells": [
  {
   "cell_type": "code",
   "execution_count": 1,
   "metadata": {},
   "outputs": [],
   "source": [
    "import matplotlib as mpl\n",
    "import matplotlib.pyplot as plt\n",
    "import numpy as np\n",
    "import sklearn\n",
    "import pandas as pd\n",
    "import os\n",
    "import sys\n",
    "import time\n",
    "import tensorflow as tf\n",
    "from tensorflow import keras"
   ]
  },
  {
   "cell_type": "code",
   "execution_count": 2,
   "metadata": {},
   "outputs": [],
   "source": [
    "fashion_mnist = keras.datasets.fashion_mnist\n",
    "(x_train_all, y_train_all), (x_test, y_test) = fashion_mnist.load_data()\n",
    "x_valid, x_train = x_train_all[:5000], x_train_all[5000:]\n",
    "y_valid, y_train = y_train_all[:5000], y_train_all[5000:]"
   ]
  },
  {
   "cell_type": "code",
   "execution_count": 3,
   "metadata": {},
   "outputs": [],
   "source": [
    "from sklearn.preprocessing import StandardScaler\n",
    "\n",
    "scaler = StandardScaler()\n",
    "# x_train: [None, 28, 28] -> [None, 784]\n",
    "x_train_scaled = scaler.fit_transform(\n",
    "    x_train.astype(np.float32).reshape(-1, 1)).reshape(-1, 28, 28)\n",
    "x_valid_scaled = scaler.transform(\n",
    "    x_valid.astype(np.float32).reshape(-1, 1)).reshape(-1, 28, 28)\n",
    "x_test_scaled = scaler.transform(\n",
    "    x_test.astype(np.float32).reshape(-1, 1)).reshape(-1, 28, 28)\n"
   ]
  },
  {
   "cell_type": "code",
   "execution_count": 15,
   "metadata": {},
   "outputs": [],
   "source": [
    "model = keras.models.Sequential()\n",
    "model.add(keras.layers.Flatten(input_shape=[28, 28]))\n",
    "\n",
    "# 激活函数修改为selu\n",
    "for _ in range(20):\n",
    "    model.add(keras.layers.Dense(100, activation=\"selu\"))\n",
    "    model.add(keras.layers.BatchNormalization())\n",
    "model.add(keras.layers.Dense(10, activation=\"softmax\"))\n",
    "\n",
    "model.compile(loss=\"sparse_categorical_crossentropy\",\n",
    "              optimizer = keras.optimizers.SGD(0.01),\n",
    "              metrics = [\"accuracy\"])"
   ]
  },
  {
   "cell_type": "code",
   "execution_count": 16,
   "metadata": {},
   "outputs": [
    {
     "name": "stdout",
     "output_type": "stream",
     "text": [
      "Epoch 1/50\n",
      "   2/1719 [..............................] - ETA: 4:17 - loss: 2.8956 - accuracy: 0.0781WARNING:tensorflow:Method (on_train_batch_end) is slow compared to the batch update (0.146270). Check your callbacks.\n",
      "1719/1719 [==============================] - 13s 8ms/step - loss: 0.6567 - accuracy: 0.7664 - val_loss: 0.4311 - val_accuracy: 0.8468\n",
      "Epoch 2/50\n",
      "1719/1719 [==============================] - 13s 8ms/step - loss: 0.4996 - accuracy: 0.8211 - val_loss: 0.3916 - val_accuracy: 0.8532\n",
      "Epoch 3/50\n",
      "1719/1719 [==============================] - 13s 8ms/step - loss: 0.4479 - accuracy: 0.8397 - val_loss: 0.3786 - val_accuracy: 0.8648\n",
      "Epoch 4/50\n",
      "1719/1719 [==============================] - 13s 7ms/step - loss: 0.4230 - accuracy: 0.8475 - val_loss: 0.3489 - val_accuracy: 0.8736\n",
      "Epoch 5/50\n",
      "1719/1719 [==============================] - 13s 8ms/step - loss: 0.4030 - accuracy: 0.8551 - val_loss: 0.3552 - val_accuracy: 0.8724\n",
      "Epoch 6/50\n",
      "1719/1719 [==============================] - 13s 8ms/step - loss: 0.3826 - accuracy: 0.8630 - val_loss: 0.3251 - val_accuracy: 0.8842\n",
      "Epoch 7/50\n",
      "1719/1719 [==============================] - 13s 8ms/step - loss: 0.3683 - accuracy: 0.8677 - val_loss: 0.3325 - val_accuracy: 0.8808\n",
      "Epoch 8/50\n",
      "1719/1719 [==============================] - 13s 8ms/step - loss: 0.3555 - accuracy: 0.8726 - val_loss: 0.3246 - val_accuracy: 0.8832\n",
      "Epoch 9/50\n",
      "1719/1719 [==============================] - 13s 8ms/step - loss: 0.3474 - accuracy: 0.8745 - val_loss: 0.3300 - val_accuracy: 0.8834\n",
      "Epoch 10/50\n",
      "1719/1719 [==============================] - 14s 8ms/step - loss: 0.3341 - accuracy: 0.8799 - val_loss: 0.3113 - val_accuracy: 0.8890\n",
      "Epoch 11/50\n",
      "1719/1719 [==============================] - 13s 8ms/step - loss: 0.3289 - accuracy: 0.8813 - val_loss: 0.3160 - val_accuracy: 0.8858\n",
      "Epoch 12/50\n",
      "1719/1719 [==============================] - 13s 8ms/step - loss: 0.3199 - accuracy: 0.8832 - val_loss: 0.3459 - val_accuracy: 0.8742\n",
      "Epoch 13/50\n",
      "1719/1719 [==============================] - 13s 8ms/step - loss: 0.3144 - accuracy: 0.8854 - val_loss: 0.3187 - val_accuracy: 0.8828\n",
      "Epoch 14/50\n",
      "1719/1719 [==============================] - 13s 8ms/step - loss: 0.3090 - accuracy: 0.8875 - val_loss: 0.3133 - val_accuracy: 0.8846\n",
      "Epoch 15/50\n",
      "1719/1719 [==============================] - 14s 8ms/step - loss: 0.2989 - accuracy: 0.8912 - val_loss: 0.3064 - val_accuracy: 0.8914\n",
      "Epoch 16/50\n",
      "1719/1719 [==============================] - 14s 8ms/step - loss: 0.2938 - accuracy: 0.8929 - val_loss: 0.3049 - val_accuracy: 0.8930\n",
      "Epoch 17/50\n",
      "1719/1719 [==============================] - 13s 8ms/step - loss: 0.2902 - accuracy: 0.8940 - val_loss: 0.3149 - val_accuracy: 0.8850\n",
      "Epoch 18/50\n",
      "1719/1719 [==============================] - 14s 8ms/step - loss: 0.2867 - accuracy: 0.8960 - val_loss: 0.3225 - val_accuracy: 0.8840\n",
      "Epoch 19/50\n",
      "1719/1719 [==============================] - 13s 8ms/step - loss: 0.2768 - accuracy: 0.8993 - val_loss: 0.3141 - val_accuracy: 0.8864\n",
      "Epoch 20/50\n",
      "1719/1719 [==============================] - 14s 8ms/step - loss: 0.2768 - accuracy: 0.8997 - val_loss: 0.3052 - val_accuracy: 0.8908\n",
      "Epoch 21/50\n",
      "1719/1719 [==============================] - 14s 8ms/step - loss: 0.2687 - accuracy: 0.9011 - val_loss: 0.3058 - val_accuracy: 0.8916\n"
     ]
    }
   ],
   "source": [
    "logdir = './dnn-selu-callbacks'\n",
    "if not os.path.exists(logdir):\n",
    "    os.mkdir(logdir)\n",
    "output_model_file = os.path.join(logdir,\n",
    "                                 \"fashion_mnist_model.h5\")\n",
    "\n",
    "callbacks = [\n",
    "    keras.callbacks.TensorBoard(logdir),\n",
    "    keras.callbacks.ModelCheckpoint(output_model_file,\n",
    "                                    save_best_only = True),\n",
    "    keras.callbacks.EarlyStopping(patience=5, min_delta=1e-3),\n",
    "]\n",
    "history = model.fit(x_train_scaled, y_train, epochs=50,\n",
    "                    validation_data=(x_valid_scaled, y_valid),\n",
    "                    callbacks = callbacks)"
   ]
  },
  {
   "cell_type": "code",
   "execution_count": 19,
   "metadata": {},
   "outputs": [
    {
     "data": {
      "image/png": "[encoded data removed]",
      "text/plain": [
       "<Figure size 576x360 with 1 Axes>"
      ]
     },
     "metadata": {
      "needs_background": "light"
     },
     "output_type": "display_data"
    }
   ],
   "source": [
    "def plot_learning_curves(history):\n",
    "    pd.DataFrame(history.history).plot(figsize=(8, 5))\n",
    "    plt.grid(True)\n",
    "    plt.gca().set_ylim(0, 3)\n",
    "    plt.show()\n",
    "\n",
    "plot_learning_curves(history)"
   ]
  },
  {
   "cell_type": "code",
   "execution_count": 18,
   "metadata": {},
   "outputs": [
    {
     "data": {
      "text/plain": [
       "[0.3467925488948822, 0.8794000148773193]"
      ]
     },
     "execution_count": 18,
     "metadata": {},
     "output_type": "execute_result"
    }
   ],
   "source": [
    "model.evaluate(x_test_scaled, y_test, verbose=0)"
   ]
  },
  {
   "cell_type": "code",
   "execution_count": null,
   "metadata": {},
   "outputs": [],
   "source": []
  }
 ],
 "metadata": {
  "kernelspec": {
   "display_name": "Python 3",
   "language": "python",
   "name": "python3"
  },
  "language_info": {
   "codemirror_mode": {
    "name": "ipython",
    "version": 3
   },
   "file_extension": ".py",
   "mimetype": "text/x-python",
   "name": "python",
   "nbconvert_exporter": "python",
   "pygments_lexer": "ipython3",
   "version": "3.8.2"
  }
 },
 "nbformat": 4,
 "nbformat_minor": 4
}
