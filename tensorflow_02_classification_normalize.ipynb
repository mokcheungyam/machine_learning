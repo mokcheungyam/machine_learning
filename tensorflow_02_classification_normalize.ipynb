{
 "cells": [
  {
   "cell_type": "code",
   "execution_count": 1,
   "metadata": {},
   "outputs": [],
   "source": [
    "import matplotlib as mpl\n",
    "import matplotlib.pyplot as plt\n",
    "import numpy as np\n",
    "import sklearn\n",
    "import pandas as pd\n",
    "import os\n",
    "import sys\n",
    "import time\n",
    "import tensorflow as tf\n",
    "from tensorflow import keras"
   ]
  },
  {
   "cell_type": "code",
   "execution_count": 2,
   "metadata": {},
   "outputs": [],
   "source": [
    "fashion_mnist = keras.datasets.fashion_mnist\n",
    "(x_train_all, y_train_all), (x_test, y_test) = fashion_mnist.load_data()\n",
    "x_valid, x_train = x_train_all[:5000], x_train_all[5000:]\n",
    "y_valid, y_train = y_train_all[:5000], y_train_all[5000:]"
   ]
  },
  {
   "cell_type": "code",
   "execution_count": 4,
   "metadata": {},
   "outputs": [],
   "source": [
    "# 对数据进行标准化\n",
    "from sklearn.preprocessing import StandardScaler\n",
    "\n",
    "scaler = StandardScaler()\n",
    "\n",
    "# 将训练集中数据类型修改为float32，形状改为列向量\n",
    "# 标准化后形状改为28 * 28的矩阵\n",
    "x_train_scaled = scaler.fit_transform(\n",
    "    x_train.astype(np.float32).reshape(-1, 1)).reshape(-1, 28, 28)\n",
    "\n",
    "# 验证集和测试都进行相同处理\n",
    "x_valid_scaled = scaler.transform(\n",
    "    x_valid.astype(np.float32).reshape(-1, 1)).reshape(-1, 28, 28)\n",
    "x_test_scaled = scaler.transform(\n",
    "    x_test.astype(np.float32).reshape(-1, 1)).reshape(-1, 28, 28)\n"
   ]
  },
  {
   "cell_type": "code",
   "execution_count": 5,
   "metadata": {},
   "outputs": [
    {
     "name": "stdout",
     "output_type": "stream",
     "text": [
      "2.0231433 -0.8105136\n"
     ]
    }
   ],
   "source": [
    "print(np.max(x_train_scaled), np.min(x_train_scaled))"
   ]
  },
  {
   "cell_type": "code",
   "execution_count": 10,
   "metadata": {},
   "outputs": [],
   "source": [
    "# 构建分类模型\n",
    "model = keras.models.Sequential([\n",
    "    keras.layers.Flatten(input_shape=[28, 28]),\n",
    "    keras.layers.Dense(300, activation='relu'),\n",
    "    keras.layers.Dense(100, activation='relu'),\n",
    "    keras.layers.Dense(10, activation='softmax'),\n",
    "])\n",
    "\n",
    "model.compile(loss='sparse_categorical_crossentropy',\n",
    "             optimizer=keras.optimizers.SGD(0.001),\n",
    "             metrics=['accuracy'])"
   ]
  },
  {
   "cell_type": "code",
   "execution_count": 15,
   "metadata": {},
   "outputs": [
    {
     "name": "stdout",
     "output_type": "stream",
     "text": [
      "Epoch 1/20\n",
      "1719/1719 [==============================] - 4s 2ms/step - loss: 0.3802 - accuracy: 0.8651 - val_loss: 0.3782 - val_accuracy: 0.8714\n",
      "Epoch 2/20\n",
      "1719/1719 [==============================] - 4s 2ms/step - loss: 0.3736 - accuracy: 0.8678 - val_loss: 0.3753 - val_accuracy: 0.8708\n",
      "Epoch 3/20\n",
      "1719/1719 [==============================] - 4s 3ms/step - loss: 0.3676 - accuracy: 0.8699 - val_loss: 0.3730 - val_accuracy: 0.8708\n",
      "Epoch 4/20\n",
      "1719/1719 [==============================] - 4s 3ms/step - loss: 0.3621 - accuracy: 0.8726 - val_loss: 0.3696 - val_accuracy: 0.8730\n",
      "Epoch 5/20\n",
      "1719/1719 [==============================] - 4s 2ms/step - loss: 0.3566 - accuracy: 0.8737 - val_loss: 0.3650 - val_accuracy: 0.8760\n",
      "Epoch 6/20\n",
      "1719/1719 [==============================] - 4s 2ms/step - loss: 0.3524 - accuracy: 0.8749 - val_loss: 0.3621 - val_accuracy: 0.8734\n",
      "Epoch 7/20\n",
      "1719/1719 [==============================] - 4s 3ms/step - loss: 0.3479 - accuracy: 0.8767 - val_loss: 0.3614 - val_accuracy: 0.8734\n",
      "Epoch 8/20\n",
      "1719/1719 [==============================] - 4s 3ms/step - loss: 0.3437 - accuracy: 0.8782 - val_loss: 0.3549 - val_accuracy: 0.8740\n",
      "Epoch 9/20\n",
      "1719/1719 [==============================] - 4s 3ms/step - loss: 0.3400 - accuracy: 0.8800 - val_loss: 0.3545 - val_accuracy: 0.8768\n",
      "Epoch 10/20\n",
      "1719/1719 [==============================] - 4s 3ms/step - loss: 0.3364 - accuracy: 0.8806 - val_loss: 0.3531 - val_accuracy: 0.8766\n",
      "Epoch 11/20\n",
      "1719/1719 [==============================] - 4s 3ms/step - loss: 0.3327 - accuracy: 0.8822 - val_loss: 0.3498 - val_accuracy: 0.8776\n",
      "Epoch 12/20\n",
      "1719/1719 [==============================] - 4s 3ms/step - loss: 0.3295 - accuracy: 0.8829 - val_loss: 0.3482 - val_accuracy: 0.8776\n",
      "Epoch 13/20\n",
      "1719/1719 [==============================] - 4s 3ms/step - loss: 0.3263 - accuracy: 0.8842 - val_loss: 0.3441 - val_accuracy: 0.8790\n",
      "Epoch 14/20\n",
      "1719/1719 [==============================] - 4s 3ms/step - loss: 0.3234 - accuracy: 0.8859 - val_loss: 0.3444 - val_accuracy: 0.8782\n",
      "Epoch 15/20\n",
      "1719/1719 [==============================] - 4s 3ms/step - loss: 0.3201 - accuracy: 0.8857 - val_loss: 0.3463 - val_accuracy: 0.8772\n",
      "Epoch 16/20\n",
      "1719/1719 [==============================] - 5s 3ms/step - loss: 0.3176 - accuracy: 0.8874 - val_loss: 0.3411 - val_accuracy: 0.8818\n",
      "Epoch 17/20\n",
      "1719/1719 [==============================] - 4s 2ms/step - loss: 0.3148 - accuracy: 0.8881 - val_loss: 0.3409 - val_accuracy: 0.8772\n",
      "Epoch 18/20\n",
      "1719/1719 [==============================] - 4s 3ms/step - loss: 0.3118 - accuracy: 0.8896 - val_loss: 0.3377 - val_accuracy: 0.8804\n",
      "Epoch 19/20\n",
      "1719/1719 [==============================] - 4s 3ms/step - loss: 0.3093 - accuracy: 0.8901 - val_loss: 0.3382 - val_accuracy: 0.8814\n",
      "Epoch 20/20\n",
      "1719/1719 [==============================] - 4s 3ms/step - loss: 0.3070 - accuracy: 0.8905 - val_loss: 0.3392 - val_accuracy: 0.8798\n"
     ]
    }
   ],
   "source": [
    "# 对模型进行训练\n",
    "history = model.fit(x_train_scaled, y_train, epochs=20, \n",
    "                   validation_data=(x_valid_scaled, y_valid))"
   ]
  },
  {
   "cell_type": "code",
   "execution_count": 16,
   "metadata": {},
   "outputs": [
    {
     "data": {
      "image/png": "[encoded data removed]",
      "text/plain": [
       "<Figure size 576x360 with 1 Axes>"
      ]
     },
     "metadata": {
      "needs_background": "light"
     },
     "output_type": "display_data"
    }
   ],
   "source": [
    "def plot_learning_curves(history):\n",
    "    pd.DataFrame(history.history).plot(figsize=(8, 5))\n",
    "    plt.grid(True)\n",
    "    plt.gca().set_ylim(0, 1)\n",
    "    plt.show()\n",
    "    \n",
    "plot_learning_curves(history)"
   ]
  },
  {
   "cell_type": "code",
   "execution_count": 17,
   "metadata": {},
   "outputs": [
    {
     "data": {
      "text/plain": [
       "[0.37402215600013733, 0.8679999709129333]"
      ]
     },
     "execution_count": 17,
     "metadata": {},
     "output_type": "execute_result"
    }
   ],
   "source": [
    "model.evaluate(x_test_scaled, y_test, verbose=0)"
   ]
  },
  {
   "cell_type": "code",
   "execution_count": null,
   "metadata": {},
   "outputs": [],
   "source": []
  }
 ],
 "metadata": {
  "kernelspec": {
   "display_name": "Python 3",
   "language": "python",
   "name": "python3"
  },
  "language_info": {
   "codemirror_mode": {
    "name": "ipython",
    "version": 3
   },
   "file_extension": ".py",
   "mimetype": "text/x-python",
   "name": "python",
   "nbconvert_exporter": "python",
   "pygments_lexer": "ipython3",
   "version": "3.8.2"
  }
 },
 "nbformat": 4,
 "nbformat_minor": 4
}
